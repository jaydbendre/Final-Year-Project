{
 "cells": [
  {
   "cell_type": "code",
   "execution_count": 1,
   "metadata": {},
   "outputs": [],
   "source": [
    "import pandas as pd\n",
    "import glob\n",
    "import json\n",
    "\n",
    "# For Location Extraction\n",
    "from nltk.tag import StanfordNERTagger\n",
    "from nltk.tokenize import word_tokenize"
   ]
  },
  {
   "cell_type": "code",
   "execution_count": 2,
   "metadata": {},
   "outputs": [],
   "source": [
    "# For Extracting Location from Text\n",
    "\n",
    "# Loading the Stanford jar file\n",
    "import os\n",
    "java_path = \"C:/Program Files/Java/jdk-14.0.2/bin/java.exe\"\n",
    "os.environ['JAVAHOME'] = java_path\n",
    "\n",
    "st = StanfordNERTagger('../NER Parser/stanford-ner-4.0.0/classifiers/english.all.3class.distsim.crf.ser.gz', '../NER Parser/stanford-ner-4.0.0/stanford-ner.jar', encoding='utf-8')\n",
    " \n",
    "def location_from_text(text):\n",
    "    print(text)\n",
    "    locations = ''\n",
    "    temp = [ i.capitalize() for i in text.split(' ')]\n",
    "    text = ''\n",
    "    for i in temp:\n",
    "        text += (i + ' ')\n",
    "        \n",
    "    text = text[:-1]\n",
    "\n",
    "    tokenized_text = word_tokenize(text)\n",
    "    classified_text = st.tag(tokenized_text)\n",
    "    \n",
    "    for i in classified_text:\n",
    "        if i[1] == 'LOCATION':\n",
    "            locations += i[0] + \",\"\n",
    "            \n",
    "    return locations[:-1]"
   ]
  },
  {
   "cell_type": "code",
   "execution_count": 3,
   "metadata": {},
   "outputs": [],
   "source": [
    "folders = glob.glob(\"../Data Gathered/Data/*\")"
   ]
  },
  {
   "cell_type": "code",
   "execution_count": 4,
   "metadata": {},
   "outputs": [],
   "source": [
    "dictlist = []\n",
    "\n",
    "for folder in folders:\n",
    "    if folder == \"Data/user\":\n",
    "        continue\n",
    "    files = glob.glob(folder + \"/tweets/*\")\n",
    "    for file in files:\n",
    "        json_string = open(file,'r',encoding=\"utf8\").read()\n",
    "        json_dict = json.loads(json_string)\n",
    "        json_dict[\"search_term\"] = folder[5:].capitalize()\n",
    "        dictlist.append(json_dict)"
   ]
  },
  {
   "cell_type": "code",
   "execution_count": 13,
   "metadata": {},
   "outputs": [],
   "source": [
    "df = pd.DataFrame(dictlist)\n",
    "df = df.replace({'\\n': ' '}, regex=True) # remove linebreaks in the dataframe\n",
    "df = df.replace({'\\t': ' '}, regex=True) # remove tabs in the dataframe\n",
    "df = df.replace({'\\r': ' '}, regex=True) # remove carriage return in the dataframe"
   ]
  },
  {
   "cell_type": "code",
   "execution_count": 14,
   "metadata": {},
   "outputs": [],
   "source": [
    "df.sort_values(\"datetime\",ascending = True,inplace=True,na_position=\"last\")"
   ]
  },
  {
   "cell_type": "code",
   "execution_count": 15,
   "metadata": {},
   "outputs": [
    {
     "output_type": "execute_result",
     "data": {
      "text/plain": "      usernameTweet                   ID  \\\n39379       quake08           1184286008   \n39380    BillGlover           1186041453   \n39381       quake08           1188282166   \n39382     elpanzer_           1188379203   \n39383       quake08           1191165662   \n...             ...                  ...   \n25828   owens_aaron  1297764010348048384   \n15343    Anguirus97  1297764010654347270   \n23031   heynotthere  1297764024847699969   \n24039    labTempNo1  1297764025074249728   \n31546     Cryofauna  1297764024717905920   \n\n                                                    text  \\\n39379  [blog]  Dam  May Have Triggered Massive China ...   \n39380  Did The  Zipingpu   Dam  Cause The Sichuan Ear...   \n39381  [blog] NAACAL: Chinese earthquake may have bee...   \n39382  Did The  Zipingpu   Dam  Cause The Sichuan Ear...   \n39383  [blog] Could The  Zipingpu   Dam  Have Caused ...   \n...                                                  ...   \n25828  Massive California wildfires expected to worse...   \n15343  We really did not need this - - Black man shot...   \n23031  why does twitter make everyone think that priv...   \n24039   2020/08/24 14:13:49 Temp=29.4*   Humidity =58.2%   \n31546  \"Fuck Apple\" is a support factor for me :v  to...   \n\n                                           url  nbr_retweet  nbr_favorite  \\\n39379               /quake08/status/1184286008            0             0   \n39380            /BillGlover/status/1186041453            0             0   \n39381               /quake08/status/1188282166            0             0   \n39382             /elpanzer_/status/1188379203            0             0   \n39383               /quake08/status/1191165662            0             0   \n...                                        ...          ...           ...   \n25828  /owens_aaron/status/1297764010348048384            0             0   \n15343   /Anguirus97/status/1297764010654347270            0             0   \n23031  /heynotthere/status/1297764024847699969            0             0   \n24039   /labTempNo1/status/1297764025074249728            0             0   \n31546    /Cryofauna/status/1297764024717905920            0             0   \n\n       nbr_reply             datetime  is_reply  is_retweet  \\\n39379          0  2009-02-07 01:27:50     False       False   \n39380          0  2009-02-07 16:26:22     False       False   \n39381          0  2009-02-08 11:56:44     False       False   \n39382          0  2009-02-08 13:20:36     False       False   \n39383          0  2009-02-09 12:26:27     False       False   \n...          ...                  ...       ...         ...   \n25828          0  2020-08-24 10:43:46     False       False   \n15343          0  2020-08-24 10:43:46     False       False   \n23031          0  2020-08-24 10:43:49     False       False   \n24039          0  2020-08-24 10:43:49     False       False   \n31546          0  2020-08-24 10:43:49      True       False   \n\n                   user_id   search_term has_media                     medias  \n39379             14811425  Zipingpu dam       NaN                        NaN  \n39380             15672198  Zipingpu dam       NaN                        NaN  \n39381             14811425  Zipingpu dam       NaN                        NaN  \n39382             11744492  Zipingpu dam       NaN                        NaN  \n39383             14811425  Zipingpu dam       NaN                        NaN  \n...                    ...           ...       ...                        ...  \n25828  1297327794775498752     Lightning       NaN                        NaN  \n15343           1911721746     Break out      True  [https://t.co/mErTre2RZT]  \n23031  1290464471274729472          Heat       NaN                        NaN  \n24039           3306512604      Humidity       NaN                        NaN  \n31546           2353901605          Salt       NaN                        NaN  \n\n[39415 rows x 14 columns]",
      "text/html": "<div>\n<style scoped>\n    .dataframe tbody tr th:only-of-type {\n        vertical-align: middle;\n    }\n\n    .dataframe tbody tr th {\n        vertical-align: top;\n    }\n\n    .dataframe thead th {\n        text-align: right;\n    }\n</style>\n<table border=\"1\" class=\"dataframe\">\n  <thead>\n    <tr style=\"text-align: right;\">\n      <th></th>\n      <th>usernameTweet</th>\n      <th>ID</th>\n      <th>text</th>\n      <th>url</th>\n      <th>nbr_retweet</th>\n      <th>nbr_favorite</th>\n      <th>nbr_reply</th>\n      <th>datetime</th>\n      <th>is_reply</th>\n      <th>is_retweet</th>\n      <th>user_id</th>\n      <th>search_term</th>\n      <th>has_media</th>\n      <th>medias</th>\n    </tr>\n  </thead>\n  <tbody>\n    <tr>\n      <td>39379</td>\n      <td>quake08</td>\n      <td>1184286008</td>\n      <td>[blog]  Dam  May Have Triggered Massive China ...</td>\n      <td>/quake08/status/1184286008</td>\n      <td>0</td>\n      <td>0</td>\n      <td>0</td>\n      <td>2009-02-07 01:27:50</td>\n      <td>False</td>\n      <td>False</td>\n      <td>14811425</td>\n      <td>Zipingpu dam</td>\n      <td>NaN</td>\n      <td>NaN</td>\n    </tr>\n    <tr>\n      <td>39380</td>\n      <td>BillGlover</td>\n      <td>1186041453</td>\n      <td>Did The  Zipingpu   Dam  Cause The Sichuan Ear...</td>\n      <td>/BillGlover/status/1186041453</td>\n      <td>0</td>\n      <td>0</td>\n      <td>0</td>\n      <td>2009-02-07 16:26:22</td>\n      <td>False</td>\n      <td>False</td>\n      <td>15672198</td>\n      <td>Zipingpu dam</td>\n      <td>NaN</td>\n      <td>NaN</td>\n    </tr>\n    <tr>\n      <td>39381</td>\n      <td>quake08</td>\n      <td>1188282166</td>\n      <td>[blog] NAACAL: Chinese earthquake may have bee...</td>\n      <td>/quake08/status/1188282166</td>\n      <td>0</td>\n      <td>0</td>\n      <td>0</td>\n      <td>2009-02-08 11:56:44</td>\n      <td>False</td>\n      <td>False</td>\n      <td>14811425</td>\n      <td>Zipingpu dam</td>\n      <td>NaN</td>\n      <td>NaN</td>\n    </tr>\n    <tr>\n      <td>39382</td>\n      <td>elpanzer_</td>\n      <td>1188379203</td>\n      <td>Did The  Zipingpu   Dam  Cause The Sichuan Ear...</td>\n      <td>/elpanzer_/status/1188379203</td>\n      <td>0</td>\n      <td>0</td>\n      <td>0</td>\n      <td>2009-02-08 13:20:36</td>\n      <td>False</td>\n      <td>False</td>\n      <td>11744492</td>\n      <td>Zipingpu dam</td>\n      <td>NaN</td>\n      <td>NaN</td>\n    </tr>\n    <tr>\n      <td>39383</td>\n      <td>quake08</td>\n      <td>1191165662</td>\n      <td>[blog] Could The  Zipingpu   Dam  Have Caused ...</td>\n      <td>/quake08/status/1191165662</td>\n      <td>0</td>\n      <td>0</td>\n      <td>0</td>\n      <td>2009-02-09 12:26:27</td>\n      <td>False</td>\n      <td>False</td>\n      <td>14811425</td>\n      <td>Zipingpu dam</td>\n      <td>NaN</td>\n      <td>NaN</td>\n    </tr>\n    <tr>\n      <td>...</td>\n      <td>...</td>\n      <td>...</td>\n      <td>...</td>\n      <td>...</td>\n      <td>...</td>\n      <td>...</td>\n      <td>...</td>\n      <td>...</td>\n      <td>...</td>\n      <td>...</td>\n      <td>...</td>\n      <td>...</td>\n      <td>...</td>\n      <td>...</td>\n    </tr>\n    <tr>\n      <td>25828</td>\n      <td>owens_aaron</td>\n      <td>1297764010348048384</td>\n      <td>Massive California wildfires expected to worse...</td>\n      <td>/owens_aaron/status/1297764010348048384</td>\n      <td>0</td>\n      <td>0</td>\n      <td>0</td>\n      <td>2020-08-24 10:43:46</td>\n      <td>False</td>\n      <td>False</td>\n      <td>1297327794775498752</td>\n      <td>Lightning</td>\n      <td>NaN</td>\n      <td>NaN</td>\n    </tr>\n    <tr>\n      <td>15343</td>\n      <td>Anguirus97</td>\n      <td>1297764010654347270</td>\n      <td>We really did not need this - - Black man shot...</td>\n      <td>/Anguirus97/status/1297764010654347270</td>\n      <td>0</td>\n      <td>0</td>\n      <td>0</td>\n      <td>2020-08-24 10:43:46</td>\n      <td>False</td>\n      <td>False</td>\n      <td>1911721746</td>\n      <td>Break out</td>\n      <td>True</td>\n      <td>[https://t.co/mErTre2RZT]</td>\n    </tr>\n    <tr>\n      <td>23031</td>\n      <td>heynotthere</td>\n      <td>1297764024847699969</td>\n      <td>why does twitter make everyone think that priv...</td>\n      <td>/heynotthere/status/1297764024847699969</td>\n      <td>0</td>\n      <td>0</td>\n      <td>0</td>\n      <td>2020-08-24 10:43:49</td>\n      <td>False</td>\n      <td>False</td>\n      <td>1290464471274729472</td>\n      <td>Heat</td>\n      <td>NaN</td>\n      <td>NaN</td>\n    </tr>\n    <tr>\n      <td>24039</td>\n      <td>labTempNo1</td>\n      <td>1297764025074249728</td>\n      <td>2020/08/24 14:13:49 Temp=29.4*   Humidity =58.2%</td>\n      <td>/labTempNo1/status/1297764025074249728</td>\n      <td>0</td>\n      <td>0</td>\n      <td>0</td>\n      <td>2020-08-24 10:43:49</td>\n      <td>False</td>\n      <td>False</td>\n      <td>3306512604</td>\n      <td>Humidity</td>\n      <td>NaN</td>\n      <td>NaN</td>\n    </tr>\n    <tr>\n      <td>31546</td>\n      <td>Cryofauna</td>\n      <td>1297764024717905920</td>\n      <td>\"Fuck Apple\" is a support factor for me :v  to...</td>\n      <td>/Cryofauna/status/1297764024717905920</td>\n      <td>0</td>\n      <td>0</td>\n      <td>0</td>\n      <td>2020-08-24 10:43:49</td>\n      <td>True</td>\n      <td>False</td>\n      <td>2353901605</td>\n      <td>Salt</td>\n      <td>NaN</td>\n      <td>NaN</td>\n    </tr>\n  </tbody>\n</table>\n<p>39415 rows × 14 columns</p>\n</div>"
     },
     "metadata": {},
     "execution_count": 15
    }
   ],
   "source": [
    "df"
   ]
  },
  {
   "cell_type": "code",
   "execution_count": 16,
   "metadata": {},
   "outputs": [],
   "source": [
    "with open(\"CollectedData.csv\" , \"w\", encoding=\"utf-8\") as f:\n",
    "    df.to_csv(f,index=False)"
   ]
  }
 ],
 "metadata": {
  "kernelspec": {
   "display_name": "Python 3.7.4 64-bit ('base': conda)",
   "language": "python",
   "name": "python_defaultSpec_1598269835411"
  },
  "language_info": {
   "codemirror_mode": {
    "name": "ipython",
    "version": 3
   },
   "file_extension": ".py",
   "mimetype": "text/x-python",
   "name": "python",
   "nbconvert_exporter": "python",
   "pygments_lexer": "ipython3",
   "version": "3.7.4-final"
  }
 },
 "nbformat": 4,
 "nbformat_minor": 2
}