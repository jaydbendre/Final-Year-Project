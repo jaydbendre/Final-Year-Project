{
 "cells": [
  {
   "cell_type": "code",
   "execution_count": 1,
   "metadata": {},
   "outputs": [],
   "source": [
    "import pandas as pd\n",
    "import glob\n",
    "import json\n",
    "\n",
    "# For Location Extraction\n",
    "from nltk.tag import StanfordNERTagger\n",
    "from nltk.tokenize import word_tokenize"
   ]
  },
  {
   "cell_type": "code",
   "execution_count": 2,
   "metadata": {},
   "outputs": [],
   "source": [
    "# For Extracting Location from Text\n",
    "\n",
    "# Loading the Stanford jar file\n",
    "import os\n",
    "java_path = \"C:/Program Files/Java/jdk-14.0.2/bin/java.exe\"\n",
    "os.environ['JAVAHOME'] = java_path\n",
    "\n",
    "st = StanfordNERTagger('./stanford-ner-4.0.0/classifiers/english.all.3class.distsim.crf.ser.gz', './stanford-ner-4.0.0/stanford-ner.jar', encoding='utf-8')\n",
    " \n",
    "def location_from_text(text):\n",
    "    print(text)\n",
    "    locations = ''\n",
    "    temp = [ i.capitalize() for i in text.split(' ')]\n",
    "    text = ''\n",
    "    for i in temp:\n",
    "        text += (i + ' ')\n",
    "        \n",
    "    text = text[:-1]\n",
    "\n",
    "    tokenized_text = word_tokenize(text)\n",
    "    classified_text = st.tag(tokenized_text)\n",
    "    \n",
    "    for i in classified_text:\n",
    "        if i[1] == 'LOCATION':\n",
    "            locations += i[0] + \",\"\n",
    "            \n",
    "    return locations[:-1]"
   ]
  },
  {
   "cell_type": "code",
   "execution_count": 3,
   "metadata": {},
   "outputs": [],
   "source": [
    "folders = glob.glob(\"Data/*\")"
   ]
  },
  {
   "cell_type": "code",
   "execution_count": 4,
   "metadata": {},
   "outputs": [],
   "source": [
    "dictlist = []\n",
    "\n",
    "for folder in folders:\n",
    "    if folder == \"Data/user\":\n",
    "        continue\n",
    "    files = glob.glob(folder + \"/tweets/*\")\n",
    "    for file in files:\n",
    "        json_string = open(file,'r',encoding=\"utf8\").read()\n",
    "        json_dict = json.loads(json_string)\n",
    "        json_dict[\"search_term\"] = folder[5:].capitalize()\n",
    "        dictlist.append(json_dict)"
   ]
  },
  {
   "cell_type": "code",
   "execution_count": 5,
   "metadata": {},
   "outputs": [],
   "source": [
    "df = pd.DataFrame(dictlist)\n",
    "df = df.replace({'\\n': ' '}, regex=True) # remove linebreaks in the dataframe\n",
    "df = df.replace({'\\t': ' '}, regex=True) # remove tabs in the dataframe\n",
    "df = df.replace({'\\r': ' '}, regex=True) # remove carriage return in the dataframe"
   ]
  },
  {
   "cell_type": "code",
   "execution_count": 6,
   "metadata": {},
   "outputs": [],
   "source": [
    "df.sort_values(\"datetime\",ascending = True,inplace=True,na_position=\"last\")"
   ]
  },
  {
   "cell_type": "code",
   "execution_count": 7,
   "metadata": {},
   "outputs": [
    {
     "output_type": "execute_result",
     "data": {
      "text/plain": "        usernameTweet                   ID  \\\n2343       wikirandom          12870169175   \n2347         wiki_bot    42592438874943488   \n3724       BeerBanzai    66836933933928448   \n2352    AlmanaraMedia    79645490265866240   \n2344       CluG1rleso   157775084457701376   \n...               ...                  ...   \n2399       eq_map_ww2  1290611335395528705   \n3437     triplejplays  1290611335248531458   \n214       JstLangevin  1290611335970148352   \n3765  jtnpfNIl0QSLfKM  1290611334392852480   \n6559       odiositora  1290611334363721728   \n\n                                                   text  \\\n2343  Early thermal weapons  http://en.wikipedia.org...   \n2347  http://bit.ly/fBN9zg  Early thermal weapons  #...   \n3724  (CONTD. FROM PREVIOUS) → Therefore we must str...   \n2352  @Sarahdrah this is about the  early thermal we...   \n2344  Early thermal weapons : Mining (military), Sie...   \n...                                                 ...   \n2399  【M4.7】NEAR EAST COAST OF HONSHU, JAPAN Depth 8...   \n3437         .@HockeyDadband  -  Heavy  Assault [21:31]   \n214   Mais nos autorites n’ont pas l’ air  de s’en r...   \n3765                                   入れさせてもらった…(ニッコリ)   \n6559  No se puede ser tan irresponsable, de verdad y...   \n\n                                              url  nbr_retweet  nbr_favorite  \\\n2343               /wikirandom/status/12870169175            0             0   \n2347           /wiki_bot/status/42592438874943488            0             0   \n3724         /BeerBanzai/status/66836933933928448            0             0   \n2352      /AlmanaraMedia/status/79645490265866240            0             0   \n2344        /CluG1rleso/status/157775084457701376            0             0   \n...                                           ...          ...           ...   \n2399       /eq_map_ww2/status/1290611335395528705            0             0   \n3437     /triplejplays/status/1290611335248531458            0             0   \n214       /JstLangevin/status/1290611335970148352            0             0   \n3765  /jtnpfNIl0QSLfKM/status/1290611334392852480            0             0   \n6559       /odiositora/status/1290611334363721728            0             0   \n\n      nbr_reply             datetime  is_reply  is_retweet  \\\n2343          0  2010-04-26 13:00:04     False       False   \n2347          0  2011-03-01 20:00:03     False       False   \n3724          0  2011-05-07 17:39:01     False       False   \n2352          1  2011-06-12 01:55:39      True       False   \n2344          0  2012-01-13 16:14:46     False       False   \n...         ...                  ...       ...         ...   \n2399          0  2020-08-04 17:01:35     False       False   \n3437          0  2020-08-04 17:01:35     False       False   \n214           0  2020-08-04 17:01:35     False       False   \n3765          0  2020-08-04 17:01:35      True       False   \n6559          0  2020-08-04 17:01:35     False       False   \n\n                  user_id             search_term has_media  \\\n2343            124412057   early thermal weapons       NaN   \n2347            122383622   early thermal weapons       NaN   \n3724             92426796   interplate earthquake       NaN   \n2352             99856628   early thermal weapons       NaN   \n2344            430831584   early thermal weapons       NaN   \n...                   ...                     ...       ...   \n2399           1144740888             earthquakes      True   \n3437             86848460                   heavy       NaN   \n214            1241669749                     air       NaN   \n3765  1290063380019998721                 jupiter       NaN   \n6559             84945905                tsunamis       NaN   \n\n                         medias  \n2343                        NaN  \n2347                        NaN  \n3724                        NaN  \n2352                        NaN  \n2344                        NaN  \n...                         ...  \n2399  [https://t.co/chXLWuXpWF]  \n3437                        NaN  \n214                         NaN  \n3765                        NaN  \n6559                        NaN  \n\n[7390 rows x 14 columns]",
      "text/html": "<div>\n<style scoped>\n    .dataframe tbody tr th:only-of-type {\n        vertical-align: middle;\n    }\n\n    .dataframe tbody tr th {\n        vertical-align: top;\n    }\n\n    .dataframe thead th {\n        text-align: right;\n    }\n</style>\n<table border=\"1\" class=\"dataframe\">\n  <thead>\n    <tr style=\"text-align: right;\">\n      <th></th>\n      <th>usernameTweet</th>\n      <th>ID</th>\n      <th>text</th>\n      <th>url</th>\n      <th>nbr_retweet</th>\n      <th>nbr_favorite</th>\n      <th>nbr_reply</th>\n      <th>datetime</th>\n      <th>is_reply</th>\n      <th>is_retweet</th>\n      <th>user_id</th>\n      <th>search_term</th>\n      <th>has_media</th>\n      <th>medias</th>\n    </tr>\n  </thead>\n  <tbody>\n    <tr>\n      <td>2343</td>\n      <td>wikirandom</td>\n      <td>12870169175</td>\n      <td>Early thermal weapons  http://en.wikipedia.org...</td>\n      <td>/wikirandom/status/12870169175</td>\n      <td>0</td>\n      <td>0</td>\n      <td>0</td>\n      <td>2010-04-26 13:00:04</td>\n      <td>False</td>\n      <td>False</td>\n      <td>124412057</td>\n      <td>early thermal weapons</td>\n      <td>NaN</td>\n      <td>NaN</td>\n    </tr>\n    <tr>\n      <td>2347</td>\n      <td>wiki_bot</td>\n      <td>42592438874943488</td>\n      <td>http://bit.ly/fBN9zg  Early thermal weapons  #...</td>\n      <td>/wiki_bot/status/42592438874943488</td>\n      <td>0</td>\n      <td>0</td>\n      <td>0</td>\n      <td>2011-03-01 20:00:03</td>\n      <td>False</td>\n      <td>False</td>\n      <td>122383622</td>\n      <td>early thermal weapons</td>\n      <td>NaN</td>\n      <td>NaN</td>\n    </tr>\n    <tr>\n      <td>3724</td>\n      <td>BeerBanzai</td>\n      <td>66836933933928448</td>\n      <td>(CONTD. FROM PREVIOUS) → Therefore we must str...</td>\n      <td>/BeerBanzai/status/66836933933928448</td>\n      <td>0</td>\n      <td>0</td>\n      <td>0</td>\n      <td>2011-05-07 17:39:01</td>\n      <td>False</td>\n      <td>False</td>\n      <td>92426796</td>\n      <td>interplate earthquake</td>\n      <td>NaN</td>\n      <td>NaN</td>\n    </tr>\n    <tr>\n      <td>2352</td>\n      <td>AlmanaraMedia</td>\n      <td>79645490265866240</td>\n      <td>@Sarahdrah this is about the  early thermal we...</td>\n      <td>/AlmanaraMedia/status/79645490265866240</td>\n      <td>0</td>\n      <td>0</td>\n      <td>1</td>\n      <td>2011-06-12 01:55:39</td>\n      <td>True</td>\n      <td>False</td>\n      <td>99856628</td>\n      <td>early thermal weapons</td>\n      <td>NaN</td>\n      <td>NaN</td>\n    </tr>\n    <tr>\n      <td>2344</td>\n      <td>CluG1rleso</td>\n      <td>157775084457701376</td>\n      <td>Early thermal weapons : Mining (military), Sie...</td>\n      <td>/CluG1rleso/status/157775084457701376</td>\n      <td>0</td>\n      <td>0</td>\n      <td>0</td>\n      <td>2012-01-13 16:14:46</td>\n      <td>False</td>\n      <td>False</td>\n      <td>430831584</td>\n      <td>early thermal weapons</td>\n      <td>NaN</td>\n      <td>NaN</td>\n    </tr>\n    <tr>\n      <td>...</td>\n      <td>...</td>\n      <td>...</td>\n      <td>...</td>\n      <td>...</td>\n      <td>...</td>\n      <td>...</td>\n      <td>...</td>\n      <td>...</td>\n      <td>...</td>\n      <td>...</td>\n      <td>...</td>\n      <td>...</td>\n      <td>...</td>\n      <td>...</td>\n    </tr>\n    <tr>\n      <td>2399</td>\n      <td>eq_map_ww2</td>\n      <td>1290611335395528705</td>\n      <td>【M4.7】NEAR EAST COAST OF HONSHU, JAPAN Depth 8...</td>\n      <td>/eq_map_ww2/status/1290611335395528705</td>\n      <td>0</td>\n      <td>0</td>\n      <td>0</td>\n      <td>2020-08-04 17:01:35</td>\n      <td>False</td>\n      <td>False</td>\n      <td>1144740888</td>\n      <td>earthquakes</td>\n      <td>True</td>\n      <td>[https://t.co/chXLWuXpWF]</td>\n    </tr>\n    <tr>\n      <td>3437</td>\n      <td>triplejplays</td>\n      <td>1290611335248531458</td>\n      <td>.@HockeyDadband  -  Heavy  Assault [21:31]</td>\n      <td>/triplejplays/status/1290611335248531458</td>\n      <td>0</td>\n      <td>0</td>\n      <td>0</td>\n      <td>2020-08-04 17:01:35</td>\n      <td>False</td>\n      <td>False</td>\n      <td>86848460</td>\n      <td>heavy</td>\n      <td>NaN</td>\n      <td>NaN</td>\n    </tr>\n    <tr>\n      <td>214</td>\n      <td>JstLangevin</td>\n      <td>1290611335970148352</td>\n      <td>Mais nos autorites n’ont pas l’ air  de s’en r...</td>\n      <td>/JstLangevin/status/1290611335970148352</td>\n      <td>0</td>\n      <td>0</td>\n      <td>0</td>\n      <td>2020-08-04 17:01:35</td>\n      <td>False</td>\n      <td>False</td>\n      <td>1241669749</td>\n      <td>air</td>\n      <td>NaN</td>\n      <td>NaN</td>\n    </tr>\n    <tr>\n      <td>3765</td>\n      <td>jtnpfNIl0QSLfKM</td>\n      <td>1290611334392852480</td>\n      <td>入れさせてもらった…(ニッコリ)</td>\n      <td>/jtnpfNIl0QSLfKM/status/1290611334392852480</td>\n      <td>0</td>\n      <td>0</td>\n      <td>0</td>\n      <td>2020-08-04 17:01:35</td>\n      <td>True</td>\n      <td>False</td>\n      <td>1290063380019998721</td>\n      <td>jupiter</td>\n      <td>NaN</td>\n      <td>NaN</td>\n    </tr>\n    <tr>\n      <td>6559</td>\n      <td>odiositora</td>\n      <td>1290611334363721728</td>\n      <td>No se puede ser tan irresponsable, de verdad y...</td>\n      <td>/odiositora/status/1290611334363721728</td>\n      <td>0</td>\n      <td>0</td>\n      <td>0</td>\n      <td>2020-08-04 17:01:35</td>\n      <td>False</td>\n      <td>False</td>\n      <td>84945905</td>\n      <td>tsunamis</td>\n      <td>NaN</td>\n      <td>NaN</td>\n    </tr>\n  </tbody>\n</table>\n<p>7390 rows × 14 columns</p>\n</div>"
     },
     "metadata": {},
     "execution_count": 7
    }
   ],
   "source": [
    "df"
   ]
  },
  {
   "cell_type": "code",
   "execution_count": 8,
   "metadata": {},
   "outputs": [
    {
     "output_type": "error",
     "ename": "UnboundLocalError",
     "evalue": "local variable 'i' referenced before assignment",
     "traceback": [
      "\u001b[1;31m---------------------------------------------------------------------------\u001b[0m",
      "\u001b[1;31mUnboundLocalError\u001b[0m                         Traceback (most recent call last)",
      "\u001b[1;32m<ipython-input-8-0ae782632cd9>\u001b[0m in \u001b[0;36m<module>\u001b[1;34m\u001b[0m\n\u001b[1;32m----> 1\u001b[1;33m \u001b[0mdf\u001b[0m\u001b[1;33m[\u001b[0m\u001b[1;34m\"location_from_text\"\u001b[0m\u001b[1;33m]\u001b[0m \u001b[1;33m=\u001b[0m \u001b[0mdf\u001b[0m\u001b[1;33m[\u001b[0m\u001b[1;34m\"text\"\u001b[0m\u001b[1;33m]\u001b[0m\u001b[1;33m.\u001b[0m\u001b[0mapply\u001b[0m\u001b[1;33m(\u001b[0m\u001b[0mlocation_from_text\u001b[0m \u001b[1;33m,\u001b[0m \u001b[1;36m1\u001b[0m\u001b[1;33m)\u001b[0m\u001b[1;33m\u001b[0m\u001b[1;33m\u001b[0m\u001b[0m\n\u001b[0m\u001b[0;32m      2\u001b[0m \u001b[0mdf\u001b[0m\u001b[1;33m\u001b[0m\u001b[1;33m\u001b[0m\u001b[0m\n",
      "\u001b[1;32m~\\Anaconda3\\lib\\site-packages\\pandas\\core\\series.py\u001b[0m in \u001b[0;36mapply\u001b[1;34m(self, func, convert_dtype, args, **kwds)\u001b[0m\n\u001b[0;32m   4040\u001b[0m             \u001b[1;32melse\u001b[0m\u001b[1;33m:\u001b[0m\u001b[1;33m\u001b[0m\u001b[1;33m\u001b[0m\u001b[0m\n\u001b[0;32m   4041\u001b[0m                 \u001b[0mvalues\u001b[0m \u001b[1;33m=\u001b[0m \u001b[0mself\u001b[0m\u001b[1;33m.\u001b[0m\u001b[0mastype\u001b[0m\u001b[1;33m(\u001b[0m\u001b[0mobject\u001b[0m\u001b[1;33m)\u001b[0m\u001b[1;33m.\u001b[0m\u001b[0mvalues\u001b[0m\u001b[1;33m\u001b[0m\u001b[1;33m\u001b[0m\u001b[0m\n\u001b[1;32m-> 4042\u001b[1;33m                 \u001b[0mmapped\u001b[0m \u001b[1;33m=\u001b[0m \u001b[0mlib\u001b[0m\u001b[1;33m.\u001b[0m\u001b[0mmap_infer\u001b[0m\u001b[1;33m(\u001b[0m\u001b[0mvalues\u001b[0m\u001b[1;33m,\u001b[0m \u001b[0mf\u001b[0m\u001b[1;33m,\u001b[0m \u001b[0mconvert\u001b[0m\u001b[1;33m=\u001b[0m\u001b[0mconvert_dtype\u001b[0m\u001b[1;33m)\u001b[0m\u001b[1;33m\u001b[0m\u001b[1;33m\u001b[0m\u001b[0m\n\u001b[0m\u001b[0;32m   4043\u001b[0m \u001b[1;33m\u001b[0m\u001b[0m\n\u001b[0;32m   4044\u001b[0m         \u001b[1;32mif\u001b[0m \u001b[0mlen\u001b[0m\u001b[1;33m(\u001b[0m\u001b[0mmapped\u001b[0m\u001b[1;33m)\u001b[0m \u001b[1;32mand\u001b[0m \u001b[0misinstance\u001b[0m\u001b[1;33m(\u001b[0m\u001b[0mmapped\u001b[0m\u001b[1;33m[\u001b[0m\u001b[1;36m0\u001b[0m\u001b[1;33m]\u001b[0m\u001b[1;33m,\u001b[0m \u001b[0mSeries\u001b[0m\u001b[1;33m)\u001b[0m\u001b[1;33m:\u001b[0m\u001b[1;33m\u001b[0m\u001b[1;33m\u001b[0m\u001b[0m\n",
      "\u001b[1;32mpandas\\_libs\\lib.pyx\u001b[0m in \u001b[0;36mpandas._libs.lib.map_infer\u001b[1;34m()\u001b[0m\n",
      "\u001b[1;32m<ipython-input-2-c525372a87a9>\u001b[0m in \u001b[0;36mlocation_from_text\u001b[1;34m(text)\u001b[0m\n\u001b[0;32m     10\u001b[0m \u001b[0mi\u001b[0m \u001b[1;33m=\u001b[0m\u001b[1;36m0\u001b[0m\u001b[1;33m\u001b[0m\u001b[1;33m\u001b[0m\u001b[0m\n\u001b[0;32m     11\u001b[0m \u001b[1;32mdef\u001b[0m \u001b[0mlocation_from_text\u001b[0m\u001b[1;33m(\u001b[0m\u001b[0mtext\u001b[0m\u001b[1;33m)\u001b[0m\u001b[1;33m:\u001b[0m\u001b[1;33m\u001b[0m\u001b[1;33m\u001b[0m\u001b[0m\n\u001b[1;32m---> 12\u001b[1;33m     \u001b[0mprint\u001b[0m\u001b[1;33m(\u001b[0m\u001b[0mi\u001b[0m\u001b[1;33m)\u001b[0m\u001b[1;33m\u001b[0m\u001b[1;33m\u001b[0m\u001b[0m\n\u001b[0m\u001b[0;32m     13\u001b[0m     \u001b[0mi\u001b[0m \u001b[1;33m+=\u001b[0m\u001b[1;36m1\u001b[0m\u001b[1;33m\u001b[0m\u001b[1;33m\u001b[0m\u001b[0m\n\u001b[0;32m     14\u001b[0m     \u001b[0mlocations\u001b[0m \u001b[1;33m=\u001b[0m \u001b[1;34m''\u001b[0m\u001b[1;33m\u001b[0m\u001b[1;33m\u001b[0m\u001b[0m\n",
      "\u001b[1;31mUnboundLocalError\u001b[0m: local variable 'i' referenced before assignment"
     ]
    }
   ],
   "source": [
    "df[\"location_from_text\"] = df[\"text\"].apply(location_from_text , 1)\n",
    "df"
   ]
  },
  {
   "cell_type": "code",
   "execution_count": null,
   "metadata": {},
   "outputs": [],
   "source": [
    "with open(\"CollectedData.csv\" , \"w\", encoding=\"utf-8\") as f:\n",
    "    df.to_csv(f,index=False)"
   ]
  },
  {
   "cell_type": "code",
   "execution_count": null,
   "metadata": {
    "tags": []
   },
   "outputs": [],
   "source": [
    "import requests , bs4,urllib\n",
    "df = pd.DataFrame(pd.read_csv(\"CollectedData.csv\"))\n",
    "image_df = df[[\"ID\",\"has_media\",\"medias\",\"search_term\"]]\n",
    "image_df.dropna(inplace=True)\n",
    "indexes = image_df[image_df[\"medias\"] == \"[]\"].index\n",
    "image_df.drop(indexes,inplace=True)\n",
    "image_df.head()"
   ]
  },
  {
   "cell_type": "code",
   "execution_count": 18,
   "metadata": {},
   "outputs": [],
   "source": [
    "import mimetypes,os,os.path\n",
    "\n",
    "def is_url_image(url):    \n",
    "    mimetype,encoding = mimetypes.guess_type(url)\n",
    "    print((mimetype and mimetype.startswith('image')))\n",
    "    return (mimetype and mimetype.startswith('image'))"
   ]
  },
  {
   "cell_type": "code",
   "execution_count": 19,
   "metadata": {
    "tags": []
   },
   "outputs": [
    {
     "output_type": "stream",
     "name": "stdout",
     "text": "ID                     1010193501798191104\nhas_media                             True\nmedias         ['https://t.co/CyP4LtCbiP']\nsearch_term                   zipingpu dam\nName: 94, dtype: object\nID                     1016774079611797504\nhas_media                             True\nmedias         ['https://t.co/BA8THZOQwG']\nsearch_term                   zipingpu dam\nName: 97, dtype: object\nID                     1060656032219840512\nhas_media                             True\nmedias         ['https://t.co/b1E3yOprAO']\nsearch_term      yellowstone fires of 1988\nName: 104, dtype: object\nID                     1075261237246783488\nhas_media                             True\nmedias         ['https://t.co/DFSXZBSBNg']\nsearch_term      yellowstone fires of 1988\nName: 109, dtype: object\nID                     1081830923023368192\nhas_media                             True\nmedias         ['https://t.co/gA1izMnxV0']\nsearch_term             ocean surface wave\nName: 115, dtype: object\nID                     1131148482008502272\nhas_media                             True\nmedias         ['https://t.co/MAu4QYa3Aw']\nsearch_term           submarine earthquake\nName: 129, dtype: object\nID                     1148972924784668672\nhas_media                             True\nmedias         ['https://t.co/rFTUAW2tkU']\nsearch_term     synoptic scale meteorology\nName: 136, dtype: object\nID                     1161676298667941888\nhas_media                             True\nmedias         ['https://t.co/iM7oy3TAn5']\nsearch_term      yellowstone fires of 1988\nName: 143, dtype: object\nID                     1166265679147876352\nhas_media                             True\nmedias         ['https://t.co/Ib5XMnxqOh']\nsearch_term             ocean surface wave\nName: 146, dtype: object\nID                     1176581775923060738\nhas_media                             True\nmedias         ['https://t.co/K7EfTOkiBU']\nsearch_term                        xerotes\nName: 150, dtype: object\nID                     1215094309801742336\nhas_media                             True\nmedias         ['https://t.co/NOBcg6UNNK']\nsearch_term                       sediment\nName: 176, dtype: object\nID                     1215094309801742336\nhas_media                             True\nmedias         ['https://t.co/NOBcg6UNNK']\nsearch_term       phreatomagmatic eruption\nName: 177, dtype: object\nID                     1215094309801742336\nhas_media                             True\nmedias         ['https://t.co/NOBcg6UNNK']\nsearch_term                      outbreaks\nName: 178, dtype: object\nID                     1215094309801742336\nhas_media                             True\nmedias         ['https://t.co/NOBcg6UNNK']\nsearch_term                        orogeny\nName: 179, dtype: object\nID                     1215094309801742336\nhas_media                             True\nmedias         ['https://t.co/NOBcg6UNNK']\nsearch_term                  oceanic crust\nName: 180, dtype: object\nID                     1215094309801742336\nhas_media                             True\nmedias         ['https://t.co/NOBcg6UNNK']\nsearch_term                         sudden\nName: 181, dtype: object\nID                     1215094309801742336\nhas_media                             True\nmedias         ['https://t.co/NOBcg6UNNK']\nsearch_term                          surge\nName: 182, dtype: object\nID                     1215094309801742336\nhas_media                             True\nmedias         ['https://t.co/NOBcg6UNNK']\nsearch_term                         swells\nName: 183, dtype: object\nID                     1215094309801742336\nhas_media                             True\nmedias         ['https://t.co/NOBcg6UNNK']\nsearch_term                 synoptic scale\nName: 184, dtype: object\nID                     1215094309801742336\nhas_media                             True\nmedias         ['https://t.co/NOBcg6UNNK']\nsearch_term                   bad marriage\nName: 185, dtype: object\nID                     1215094309801742336\nhas_media                             True\nmedias         ['https://t.co/NOBcg6UNNK']\nsearch_term     synoptic scale meteorology\nName: 186, dtype: object\nID                     1215094309801742336\nhas_media                             True\nmedias         ['https://t.co/NOBcg6UNNK']\nsearch_term             temperature change\nName: 187, dtype: object\nID                     1215094309801742336\nhas_media                             True\nmedias         ['https://t.co/NOBcg6UNNK']\nsearch_term                         tephra\nName: 188, dtype: object\nID                     1215094309801742336\nhas_media                             True\nmedias         ['https://t.co/NOBcg6UNNK']\nsearch_term                        terrene\nName: 189, dtype: object\nID                     1215094309801742336\nhas_media                             True\nmedias         ['https://t.co/NOBcg6UNNK']\nsearch_term            thermal conductance\nName: 190, dtype: object\nID                     1215094309801742336\nhas_media                             True\nmedias         ['https://t.co/NOBcg6UNNK']\nsearch_term           thermal conductivity\nName: 191, dtype: object\nID                     1215094309801742336\nhas_media                             True\nmedias         ['https://t.co/NOBcg6UNNK']\nsearch_term      thermodynamic equilibrium\nName: 192, dtype: object\nID                     1215094309801742336\nhas_media                             True\nmedias         ['https://t.co/NOBcg6UNNK']\nsearch_term                    thermolysis\nName: 193, dtype: object\nID                     1215094309801742336\nhas_media                             True\nmedias         ['https://t.co/NOBcg6UNNK']\nsearch_term                   rotten fruit\nName: 194, dtype: object\nID                     1215094309801742336\nhas_media                             True\nmedias         ['https://t.co/NOBcg6UNNK']\nsearch_term                     armageddon\nName: 195, dtype: object\nID                     1215094309801742336\nhas_media                             True\nmedias         ['https://t.co/NOBcg6UNNK']\nsearch_term                  physical pain\nName: 196, dtype: object\nID                     1215094309801742336\nhas_media                             True\nmedias         ['https://t.co/NOBcg6UNNK']\nsearch_term                      planetary\nName: 197, dtype: object\nID                     1215094309801742336\nhas_media                             True\nmedias         ['https://t.co/NOBcg6UNNK']\nsearch_term                      plutonism\nName: 198, dtype: object\nID                     1215094309801742336\nhas_media                             True\nmedias         ['https://t.co/NOBcg6UNNK']\nsearch_term                        sinlaku\nName: 199, dtype: object\nID                     1215094309801742336\nhas_media                             True\nmedias         ['https://t.co/NOBcg6UNNK']\nsearch_term                          slash\nName: 200, dtype: object\nID                     1215094309801742336\nhas_media                             True\nmedias         ['https://t.co/NOBcg6UNNK']\nsearch_term                  sleep outside\nName: 201, dtype: object\nID                     1215094309801742336\nhas_media                             True\nmedias         ['https://t.co/NOBcg6UNNK']\nsearch_term                    sport drink\nName: 202, dtype: object\nID                     1215094309801742336\nhas_media                             True\nmedias         ['https://t.co/NOBcg6UNNK']\nsearch_term                    springsteen\nName: 203, dtype: object\nID                     1215094309801742336\nhas_media                             True\nmedias         ['https://t.co/NOBcg6UNNK']\nsearch_term             spruce bark beetle\nName: 204, dtype: object\nID                     1215094309801742336\nhas_media                             True\nmedias         ['https://t.co/NOBcg6UNNK']\nsearch_term                          stook\nName: 205, dtype: object\nID                     1215094309801742336\nhas_media                             True\nmedias         ['https://t.co/NOBcg6UNNK']\nsearch_term                          storm\nName: 206, dtype: object\nID                     1215094309801742336\nhas_media                             True\nmedias         ['https://t.co/NOBcg6UNNK']\nsearch_term                           salt\nName: 207, dtype: object\nID                     1215094309801742336\nhas_media                             True\nmedias         ['https://t.co/NOBcg6UNNK']\nsearch_term                    stormworthy\nName: 208, dtype: object\nID                     1215094309801742336\nhas_media                             True\nmedias         ['https://t.co/NOBcg6UNNK']\nsearch_term                      be strand\nName: 209, dtype: object\nID                     1215094309801742336\nhas_media                             True\nmedias         ['https://t.co/NOBcg6UNNK']\nsearch_term                           rita\nName: 210, dtype: object\nID                     1215094309801742336\nhas_media                             True\nmedias         ['https://t.co/NOBcg6UNNK']\nsearch_term                      red beech\nName: 211, dtype: object\nID                     1215094309801742336\nhas_media                             True\nmedias         ['https://t.co/NOBcg6UNNK']\nsearch_term                          avian\nName: 212, dtype: object\nID                     1215094309801742336\nhas_media                             True\nmedias         ['https://t.co/NOBcg6UNNK']\nsearch_term                    re-afforest\nName: 213, dtype: object\nID                     1215094309801742336\nhas_media                             True\nmedias         ['https://t.co/NOBcg6UNNK']\nsearch_term                       rainfall\nName: 214, dtype: object\nID                     1215094309801742336\nhas_media                             True\nmedias         ['https://t.co/NOBcg6UNNK']\nsearch_term                           rain\nName: 215, dtype: object\nID                     1215094309801742336\nhas_media                             True\nmedias         ['https://t.co/NOBcg6UNNK']\nsearch_term                      psychosis\nName: 216, dtype: object\nID                     1215094309801742336\nhas_media                             True\nmedias         ['https://t.co/NOBcg6UNNK']\nsearch_term                      precipice\nName: 217, dtype: object\nID                     1215094309801742336\nhas_media                             True\nmedias         ['https://t.co/NOBcg6UNNK']\nsearch_term                          sigyn\nName: 218, dtype: object\nID                     1215094309801742336\nhas_media                             True\nmedias         ['https://t.co/NOBcg6UNNK']\nsearch_term                    storm surge\nName: 219, dtype: object\nID                     1215094309801742336\nhas_media                             True\nmedias         ['https://t.co/NOBcg6UNNK']\nsearch_term                         rubble\nName: 220, dtype: object\nID                     1215094309801742336\nhas_media                             True\nmedias         ['https://t.co/NOBcg6UNNK']\nsearch_term                          ocean\nName: 221, dtype: object\nID                     1215094309801742336\nhas_media                             True\nmedias         ['https://t.co/NOBcg6UNNK']\nsearch_term                         decade\nName: 222, dtype: object\n"
    },
    {
     "output_type": "error",
     "ename": "KeyboardInterrupt",
     "evalue": "",
     "traceback": [
      "\u001b[1;31m---------------------------------------------------------------------------\u001b[0m",
      "\u001b[1;31mKeyboardInterrupt\u001b[0m                         Traceback (most recent call last)",
      "\u001b[1;32m<ipython-input-19-14968855bcfd>\u001b[0m in \u001b[0;36m<module>\u001b[1;34m\u001b[0m\n\u001b[0;32m     18\u001b[0m \u001b[1;33m\u001b[0m\u001b[0m\n\u001b[0;32m     19\u001b[0m \u001b[1;33m\u001b[0m\u001b[0m\n\u001b[1;32m---> 20\u001b[1;33m \u001b[0mimage_df\u001b[0m \u001b[1;33m=\u001b[0m \u001b[0mimage_df\u001b[0m\u001b[1;33m.\u001b[0m\u001b[0mapply\u001b[0m\u001b[1;33m(\u001b[0m\u001b[0mdownload_image\u001b[0m \u001b[1;33m,\u001b[0m \u001b[1;36m1\u001b[0m\u001b[1;33m)\u001b[0m\u001b[1;33m\u001b[0m\u001b[1;33m\u001b[0m\u001b[0m\n\u001b[0m",
      "\u001b[1;32m~\\Anaconda3\\lib\\site-packages\\pandas\\core\\frame.py\u001b[0m in \u001b[0;36mapply\u001b[1;34m(self, func, axis, broadcast, raw, reduce, result_type, args, **kwds)\u001b[0m\n\u001b[0;32m   6911\u001b[0m             \u001b[0mkwds\u001b[0m\u001b[1;33m=\u001b[0m\u001b[0mkwds\u001b[0m\u001b[1;33m,\u001b[0m\u001b[1;33m\u001b[0m\u001b[1;33m\u001b[0m\u001b[0m\n\u001b[0;32m   6912\u001b[0m         )\n\u001b[1;32m-> 6913\u001b[1;33m         \u001b[1;32mreturn\u001b[0m \u001b[0mop\u001b[0m\u001b[1;33m.\u001b[0m\u001b[0mget_result\u001b[0m\u001b[1;33m(\u001b[0m\u001b[1;33m)\u001b[0m\u001b[1;33m\u001b[0m\u001b[1;33m\u001b[0m\u001b[0m\n\u001b[0m\u001b[0;32m   6914\u001b[0m \u001b[1;33m\u001b[0m\u001b[0m\n\u001b[0;32m   6915\u001b[0m     \u001b[1;32mdef\u001b[0m \u001b[0mapplymap\u001b[0m\u001b[1;33m(\u001b[0m\u001b[0mself\u001b[0m\u001b[1;33m,\u001b[0m \u001b[0mfunc\u001b[0m\u001b[1;33m)\u001b[0m\u001b[1;33m:\u001b[0m\u001b[1;33m\u001b[0m\u001b[1;33m\u001b[0m\u001b[0m\n",
      "\u001b[1;32m~\\Anaconda3\\lib\\site-packages\\pandas\\core\\apply.py\u001b[0m in \u001b[0;36mget_result\u001b[1;34m(self)\u001b[0m\n\u001b[0;32m    184\u001b[0m             \u001b[1;32mreturn\u001b[0m \u001b[0mself\u001b[0m\u001b[1;33m.\u001b[0m\u001b[0mapply_raw\u001b[0m\u001b[1;33m(\u001b[0m\u001b[1;33m)\u001b[0m\u001b[1;33m\u001b[0m\u001b[1;33m\u001b[0m\u001b[0m\n\u001b[0;32m    185\u001b[0m \u001b[1;33m\u001b[0m\u001b[0m\n\u001b[1;32m--> 186\u001b[1;33m         \u001b[1;32mreturn\u001b[0m \u001b[0mself\u001b[0m\u001b[1;33m.\u001b[0m\u001b[0mapply_standard\u001b[0m\u001b[1;33m(\u001b[0m\u001b[1;33m)\u001b[0m\u001b[1;33m\u001b[0m\u001b[1;33m\u001b[0m\u001b[0m\n\u001b[0m\u001b[0;32m    187\u001b[0m \u001b[1;33m\u001b[0m\u001b[0m\n\u001b[0;32m    188\u001b[0m     \u001b[1;32mdef\u001b[0m \u001b[0mapply_empty_result\u001b[0m\u001b[1;33m(\u001b[0m\u001b[0mself\u001b[0m\u001b[1;33m)\u001b[0m\u001b[1;33m:\u001b[0m\u001b[1;33m\u001b[0m\u001b[1;33m\u001b[0m\u001b[0m\n",
      "\u001b[1;32m~\\Anaconda3\\lib\\site-packages\\pandas\\core\\apply.py\u001b[0m in \u001b[0;36mapply_standard\u001b[1;34m(self)\u001b[0m\n\u001b[0;32m    283\u001b[0m             \u001b[1;32mtry\u001b[0m\u001b[1;33m:\u001b[0m\u001b[1;33m\u001b[0m\u001b[1;33m\u001b[0m\u001b[0m\n\u001b[0;32m    284\u001b[0m                 result = reduction.reduce(\n\u001b[1;32m--> 285\u001b[1;33m                     \u001b[0mvalues\u001b[0m\u001b[1;33m,\u001b[0m \u001b[0mself\u001b[0m\u001b[1;33m.\u001b[0m\u001b[0mf\u001b[0m\u001b[1;33m,\u001b[0m \u001b[0maxis\u001b[0m\u001b[1;33m=\u001b[0m\u001b[0mself\u001b[0m\u001b[1;33m.\u001b[0m\u001b[0maxis\u001b[0m\u001b[1;33m,\u001b[0m \u001b[0mdummy\u001b[0m\u001b[1;33m=\u001b[0m\u001b[0mdummy\u001b[0m\u001b[1;33m,\u001b[0m \u001b[0mlabels\u001b[0m\u001b[1;33m=\u001b[0m\u001b[0mlabels\u001b[0m\u001b[1;33m\u001b[0m\u001b[1;33m\u001b[0m\u001b[0m\n\u001b[0m\u001b[0;32m    286\u001b[0m                 )\n\u001b[0;32m    287\u001b[0m                 \u001b[1;32mreturn\u001b[0m \u001b[0mself\u001b[0m\u001b[1;33m.\u001b[0m\u001b[0mobj\u001b[0m\u001b[1;33m.\u001b[0m\u001b[0m_constructor_sliced\u001b[0m\u001b[1;33m(\u001b[0m\u001b[0mresult\u001b[0m\u001b[1;33m,\u001b[0m \u001b[0mindex\u001b[0m\u001b[1;33m=\u001b[0m\u001b[0mlabels\u001b[0m\u001b[1;33m)\u001b[0m\u001b[1;33m\u001b[0m\u001b[1;33m\u001b[0m\u001b[0m\n",
      "\u001b[1;32mpandas\\_libs\\reduction.pyx\u001b[0m in \u001b[0;36mpandas._libs.reduction.reduce\u001b[1;34m()\u001b[0m\n",
      "\u001b[1;32mpandas\\_libs\\reduction.pyx\u001b[0m in \u001b[0;36mpandas._libs.reduction.Reducer.get_result\u001b[1;34m()\u001b[0m\n",
      "\u001b[1;32m<ipython-input-19-14968855bcfd>\u001b[0m in \u001b[0;36mdownload_image\u001b[1;34m(item)\u001b[0m\n\u001b[0;32m      8\u001b[0m     \u001b[0mitem\u001b[0m\u001b[1;33m[\u001b[0m\u001b[1;34m\"medias\"\u001b[0m\u001b[1;33m]\u001b[0m \u001b[1;33m=\u001b[0m \u001b[0mitem\u001b[0m\u001b[1;33m[\u001b[0m\u001b[1;34m\"medias\"\u001b[0m\u001b[1;33m]\u001b[0m\u001b[1;33m.\u001b[0m\u001b[0mstrip\u001b[0m\u001b[1;33m(\u001b[0m\u001b[1;34m\"\\'\"\u001b[0m\u001b[1;33m)\u001b[0m\u001b[1;33m\u001b[0m\u001b[1;33m\u001b[0m\u001b[0m\n\u001b[0;32m      9\u001b[0m \u001b[1;33m\u001b[0m\u001b[0m\n\u001b[1;32m---> 10\u001b[1;33m     \u001b[0mr\u001b[0m \u001b[1;33m=\u001b[0m \u001b[0mrequests\u001b[0m\u001b[1;33m.\u001b[0m\u001b[0mget\u001b[0m\u001b[1;33m(\u001b[0m\u001b[0mitem\u001b[0m\u001b[1;33m[\u001b[0m\u001b[1;34m\"medias\"\u001b[0m\u001b[1;33m]\u001b[0m\u001b[1;33m,\u001b[0m \u001b[0mstream\u001b[0m\u001b[1;33m=\u001b[0m\u001b[1;32mTrue\u001b[0m\u001b[1;33m)\u001b[0m\u001b[1;33m\u001b[0m\u001b[1;33m\u001b[0m\u001b[0m\n\u001b[0m\u001b[0;32m     11\u001b[0m     \u001b[1;32mif\u001b[0m \u001b[0mos\u001b[0m\u001b[1;33m.\u001b[0m\u001b[0mpath\u001b[0m\u001b[1;33m.\u001b[0m\u001b[0misdir\u001b[0m\u001b[1;33m(\u001b[0m\u001b[1;34m\"Data/{}/content\"\u001b[0m\u001b[1;33m.\u001b[0m\u001b[0mformat\u001b[0m\u001b[1;33m(\u001b[0m\u001b[0mitem\u001b[0m\u001b[1;33m[\u001b[0m\u001b[1;34m\"search_term\"\u001b[0m\u001b[1;33m]\u001b[0m\u001b[1;33m)\u001b[0m\u001b[1;33m)\u001b[0m \u001b[1;33m==\u001b[0m \u001b[1;32mFalse\u001b[0m\u001b[1;33m:\u001b[0m\u001b[1;33m\u001b[0m\u001b[1;33m\u001b[0m\u001b[0m\n\u001b[0;32m     12\u001b[0m         \u001b[0mos\u001b[0m\u001b[1;33m.\u001b[0m\u001b[0mmkdir\u001b[0m\u001b[1;33m(\u001b[0m\u001b[1;34m\"Data/{}/content\"\u001b[0m\u001b[1;33m.\u001b[0m\u001b[0mformat\u001b[0m\u001b[1;33m(\u001b[0m\u001b[0mitem\u001b[0m\u001b[1;33m[\u001b[0m\u001b[1;34m\"search_term\"\u001b[0m\u001b[1;33m]\u001b[0m\u001b[1;33m)\u001b[0m\u001b[1;33m)\u001b[0m\u001b[1;33m\u001b[0m\u001b[1;33m\u001b[0m\u001b[0m\n",
      "\u001b[1;32m~\\Anaconda3\\lib\\site-packages\\requests\\api.py\u001b[0m in \u001b[0;36mget\u001b[1;34m(url, params, **kwargs)\u001b[0m\n\u001b[0;32m     73\u001b[0m \u001b[1;33m\u001b[0m\u001b[0m\n\u001b[0;32m     74\u001b[0m     \u001b[0mkwargs\u001b[0m\u001b[1;33m.\u001b[0m\u001b[0msetdefault\u001b[0m\u001b[1;33m(\u001b[0m\u001b[1;34m'allow_redirects'\u001b[0m\u001b[1;33m,\u001b[0m \u001b[1;32mTrue\u001b[0m\u001b[1;33m)\u001b[0m\u001b[1;33m\u001b[0m\u001b[1;33m\u001b[0m\u001b[0m\n\u001b[1;32m---> 75\u001b[1;33m     \u001b[1;32mreturn\u001b[0m \u001b[0mrequest\u001b[0m\u001b[1;33m(\u001b[0m\u001b[1;34m'get'\u001b[0m\u001b[1;33m,\u001b[0m \u001b[0murl\u001b[0m\u001b[1;33m,\u001b[0m \u001b[0mparams\u001b[0m\u001b[1;33m=\u001b[0m\u001b[0mparams\u001b[0m\u001b[1;33m,\u001b[0m \u001b[1;33m**\u001b[0m\u001b[0mkwargs\u001b[0m\u001b[1;33m)\u001b[0m\u001b[1;33m\u001b[0m\u001b[1;33m\u001b[0m\u001b[0m\n\u001b[0m\u001b[0;32m     76\u001b[0m \u001b[1;33m\u001b[0m\u001b[0m\n\u001b[0;32m     77\u001b[0m \u001b[1;33m\u001b[0m\u001b[0m\n",
      "\u001b[1;32m~\\Anaconda3\\lib\\site-packages\\requests\\api.py\u001b[0m in \u001b[0;36mrequest\u001b[1;34m(method, url, **kwargs)\u001b[0m\n\u001b[0;32m     58\u001b[0m     \u001b[1;31m# cases, and look like a memory leak in others.\u001b[0m\u001b[1;33m\u001b[0m\u001b[1;33m\u001b[0m\u001b[1;33m\u001b[0m\u001b[0m\n\u001b[0;32m     59\u001b[0m     \u001b[1;32mwith\u001b[0m \u001b[0msessions\u001b[0m\u001b[1;33m.\u001b[0m\u001b[0mSession\u001b[0m\u001b[1;33m(\u001b[0m\u001b[1;33m)\u001b[0m \u001b[1;32mas\u001b[0m \u001b[0msession\u001b[0m\u001b[1;33m:\u001b[0m\u001b[1;33m\u001b[0m\u001b[1;33m\u001b[0m\u001b[0m\n\u001b[1;32m---> 60\u001b[1;33m         \u001b[1;32mreturn\u001b[0m \u001b[0msession\u001b[0m\u001b[1;33m.\u001b[0m\u001b[0mrequest\u001b[0m\u001b[1;33m(\u001b[0m\u001b[0mmethod\u001b[0m\u001b[1;33m=\u001b[0m\u001b[0mmethod\u001b[0m\u001b[1;33m,\u001b[0m \u001b[0murl\u001b[0m\u001b[1;33m=\u001b[0m\u001b[0murl\u001b[0m\u001b[1;33m,\u001b[0m \u001b[1;33m**\u001b[0m\u001b[0mkwargs\u001b[0m\u001b[1;33m)\u001b[0m\u001b[1;33m\u001b[0m\u001b[1;33m\u001b[0m\u001b[0m\n\u001b[0m\u001b[0;32m     61\u001b[0m \u001b[1;33m\u001b[0m\u001b[0m\n\u001b[0;32m     62\u001b[0m \u001b[1;33m\u001b[0m\u001b[0m\n",
      "\u001b[1;32m~\\Anaconda3\\lib\\site-packages\\requests\\sessions.py\u001b[0m in \u001b[0;36mrequest\u001b[1;34m(self, method, url, params, data, headers, cookies, files, auth, timeout, allow_redirects, proxies, hooks, stream, verify, cert, json)\u001b[0m\n\u001b[0;32m    531\u001b[0m         }\n\u001b[0;32m    532\u001b[0m         \u001b[0msend_kwargs\u001b[0m\u001b[1;33m.\u001b[0m\u001b[0mupdate\u001b[0m\u001b[1;33m(\u001b[0m\u001b[0msettings\u001b[0m\u001b[1;33m)\u001b[0m\u001b[1;33m\u001b[0m\u001b[1;33m\u001b[0m\u001b[0m\n\u001b[1;32m--> 533\u001b[1;33m         \u001b[0mresp\u001b[0m \u001b[1;33m=\u001b[0m \u001b[0mself\u001b[0m\u001b[1;33m.\u001b[0m\u001b[0msend\u001b[0m\u001b[1;33m(\u001b[0m\u001b[0mprep\u001b[0m\u001b[1;33m,\u001b[0m \u001b[1;33m**\u001b[0m\u001b[0msend_kwargs\u001b[0m\u001b[1;33m)\u001b[0m\u001b[1;33m\u001b[0m\u001b[1;33m\u001b[0m\u001b[0m\n\u001b[0m\u001b[0;32m    534\u001b[0m \u001b[1;33m\u001b[0m\u001b[0m\n\u001b[0;32m    535\u001b[0m         \u001b[1;32mreturn\u001b[0m \u001b[0mresp\u001b[0m\u001b[1;33m\u001b[0m\u001b[1;33m\u001b[0m\u001b[0m\n",
      "\u001b[1;32m~\\Anaconda3\\lib\\site-packages\\requests\\sessions.py\u001b[0m in \u001b[0;36msend\u001b[1;34m(self, request, **kwargs)\u001b[0m\n\u001b[0;32m    644\u001b[0m \u001b[1;33m\u001b[0m\u001b[0m\n\u001b[0;32m    645\u001b[0m         \u001b[1;31m# Send the request\u001b[0m\u001b[1;33m\u001b[0m\u001b[1;33m\u001b[0m\u001b[1;33m\u001b[0m\u001b[0m\n\u001b[1;32m--> 646\u001b[1;33m         \u001b[0mr\u001b[0m \u001b[1;33m=\u001b[0m \u001b[0madapter\u001b[0m\u001b[1;33m.\u001b[0m\u001b[0msend\u001b[0m\u001b[1;33m(\u001b[0m\u001b[0mrequest\u001b[0m\u001b[1;33m,\u001b[0m \u001b[1;33m**\u001b[0m\u001b[0mkwargs\u001b[0m\u001b[1;33m)\u001b[0m\u001b[1;33m\u001b[0m\u001b[1;33m\u001b[0m\u001b[0m\n\u001b[0m\u001b[0;32m    647\u001b[0m \u001b[1;33m\u001b[0m\u001b[0m\n\u001b[0;32m    648\u001b[0m         \u001b[1;31m# Total elapsed time of the request (approximately)\u001b[0m\u001b[1;33m\u001b[0m\u001b[1;33m\u001b[0m\u001b[1;33m\u001b[0m\u001b[0m\n",
      "\u001b[1;32m~\\Anaconda3\\lib\\site-packages\\requests\\adapters.py\u001b[0m in \u001b[0;36msend\u001b[1;34m(self, request, stream, timeout, verify, cert, proxies)\u001b[0m\n\u001b[0;32m    447\u001b[0m                     \u001b[0mdecode_content\u001b[0m\u001b[1;33m=\u001b[0m\u001b[1;32mFalse\u001b[0m\u001b[1;33m,\u001b[0m\u001b[1;33m\u001b[0m\u001b[1;33m\u001b[0m\u001b[0m\n\u001b[0;32m    448\u001b[0m                     \u001b[0mretries\u001b[0m\u001b[1;33m=\u001b[0m\u001b[0mself\u001b[0m\u001b[1;33m.\u001b[0m\u001b[0mmax_retries\u001b[0m\u001b[1;33m,\u001b[0m\u001b[1;33m\u001b[0m\u001b[1;33m\u001b[0m\u001b[0m\n\u001b[1;32m--> 449\u001b[1;33m                     \u001b[0mtimeout\u001b[0m\u001b[1;33m=\u001b[0m\u001b[0mtimeout\u001b[0m\u001b[1;33m\u001b[0m\u001b[1;33m\u001b[0m\u001b[0m\n\u001b[0m\u001b[0;32m    450\u001b[0m                 )\n\u001b[0;32m    451\u001b[0m \u001b[1;33m\u001b[0m\u001b[0m\n",
      "\u001b[1;32m~\\Anaconda3\\lib\\site-packages\\urllib3\\connectionpool.py\u001b[0m in \u001b[0;36murlopen\u001b[1;34m(self, method, url, body, headers, retries, redirect, assert_same_host, timeout, pool_timeout, release_conn, chunked, body_pos, **response_kw)\u001b[0m\n\u001b[0;32m    675\u001b[0m                 \u001b[0mbody\u001b[0m\u001b[1;33m=\u001b[0m\u001b[0mbody\u001b[0m\u001b[1;33m,\u001b[0m\u001b[1;33m\u001b[0m\u001b[1;33m\u001b[0m\u001b[0m\n\u001b[0;32m    676\u001b[0m                 \u001b[0mheaders\u001b[0m\u001b[1;33m=\u001b[0m\u001b[0mheaders\u001b[0m\u001b[1;33m,\u001b[0m\u001b[1;33m\u001b[0m\u001b[1;33m\u001b[0m\u001b[0m\n\u001b[1;32m--> 677\u001b[1;33m                 \u001b[0mchunked\u001b[0m\u001b[1;33m=\u001b[0m\u001b[0mchunked\u001b[0m\u001b[1;33m,\u001b[0m\u001b[1;33m\u001b[0m\u001b[1;33m\u001b[0m\u001b[0m\n\u001b[0m\u001b[0;32m    678\u001b[0m             )\n\u001b[0;32m    679\u001b[0m \u001b[1;33m\u001b[0m\u001b[0m\n",
      "\u001b[1;32m~\\Anaconda3\\lib\\site-packages\\urllib3\\connectionpool.py\u001b[0m in \u001b[0;36m_make_request\u001b[1;34m(self, conn, method, url, timeout, chunked, **httplib_request_kw)\u001b[0m\n\u001b[0;32m    424\u001b[0m                     \u001b[1;31m# Python 3 (including for exceptions like SystemExit).\u001b[0m\u001b[1;33m\u001b[0m\u001b[1;33m\u001b[0m\u001b[1;33m\u001b[0m\u001b[0m\n\u001b[0;32m    425\u001b[0m                     \u001b[1;31m# Otherwise it looks like a bug in the code.\u001b[0m\u001b[1;33m\u001b[0m\u001b[1;33m\u001b[0m\u001b[1;33m\u001b[0m\u001b[0m\n\u001b[1;32m--> 426\u001b[1;33m                     \u001b[0msix\u001b[0m\u001b[1;33m.\u001b[0m\u001b[0mraise_from\u001b[0m\u001b[1;33m(\u001b[0m\u001b[0me\u001b[0m\u001b[1;33m,\u001b[0m \u001b[1;32mNone\u001b[0m\u001b[1;33m)\u001b[0m\u001b[1;33m\u001b[0m\u001b[1;33m\u001b[0m\u001b[0m\n\u001b[0m\u001b[0;32m    427\u001b[0m         \u001b[1;32mexcept\u001b[0m \u001b[1;33m(\u001b[0m\u001b[0mSocketTimeout\u001b[0m\u001b[1;33m,\u001b[0m \u001b[0mBaseSSLError\u001b[0m\u001b[1;33m,\u001b[0m \u001b[0mSocketError\u001b[0m\u001b[1;33m)\u001b[0m \u001b[1;32mas\u001b[0m \u001b[0me\u001b[0m\u001b[1;33m:\u001b[0m\u001b[1;33m\u001b[0m\u001b[1;33m\u001b[0m\u001b[0m\n\u001b[0;32m    428\u001b[0m             \u001b[0mself\u001b[0m\u001b[1;33m.\u001b[0m\u001b[0m_raise_timeout\u001b[0m\u001b[1;33m(\u001b[0m\u001b[0merr\u001b[0m\u001b[1;33m=\u001b[0m\u001b[0me\u001b[0m\u001b[1;33m,\u001b[0m \u001b[0murl\u001b[0m\u001b[1;33m=\u001b[0m\u001b[0murl\u001b[0m\u001b[1;33m,\u001b[0m \u001b[0mtimeout_value\u001b[0m\u001b[1;33m=\u001b[0m\u001b[0mread_timeout\u001b[0m\u001b[1;33m)\u001b[0m\u001b[1;33m\u001b[0m\u001b[1;33m\u001b[0m\u001b[0m\n",
      "\u001b[1;32m~\\Anaconda3\\lib\\site-packages\\urllib3\\packages\\six.py\u001b[0m in \u001b[0;36mraise_from\u001b[1;34m(value, from_value)\u001b[0m\n",
      "\u001b[1;32m~\\Anaconda3\\lib\\site-packages\\urllib3\\connectionpool.py\u001b[0m in \u001b[0;36m_make_request\u001b[1;34m(self, conn, method, url, timeout, chunked, **httplib_request_kw)\u001b[0m\n\u001b[0;32m    419\u001b[0m                 \u001b[1;31m# Python 3\u001b[0m\u001b[1;33m\u001b[0m\u001b[1;33m\u001b[0m\u001b[1;33m\u001b[0m\u001b[0m\n\u001b[0;32m    420\u001b[0m                 \u001b[1;32mtry\u001b[0m\u001b[1;33m:\u001b[0m\u001b[1;33m\u001b[0m\u001b[1;33m\u001b[0m\u001b[0m\n\u001b[1;32m--> 421\u001b[1;33m                     \u001b[0mhttplib_response\u001b[0m \u001b[1;33m=\u001b[0m \u001b[0mconn\u001b[0m\u001b[1;33m.\u001b[0m\u001b[0mgetresponse\u001b[0m\u001b[1;33m(\u001b[0m\u001b[1;33m)\u001b[0m\u001b[1;33m\u001b[0m\u001b[1;33m\u001b[0m\u001b[0m\n\u001b[0m\u001b[0;32m    422\u001b[0m                 \u001b[1;32mexcept\u001b[0m \u001b[0mBaseException\u001b[0m \u001b[1;32mas\u001b[0m \u001b[0me\u001b[0m\u001b[1;33m:\u001b[0m\u001b[1;33m\u001b[0m\u001b[1;33m\u001b[0m\u001b[0m\n\u001b[0;32m    423\u001b[0m                     \u001b[1;31m# Remove the TypeError from the exception chain in\u001b[0m\u001b[1;33m\u001b[0m\u001b[1;33m\u001b[0m\u001b[1;33m\u001b[0m\u001b[0m\n",
      "\u001b[1;32m~\\Anaconda3\\lib\\http\\client.py\u001b[0m in \u001b[0;36mgetresponse\u001b[1;34m(self)\u001b[0m\n\u001b[0;32m   1334\u001b[0m         \u001b[1;32mtry\u001b[0m\u001b[1;33m:\u001b[0m\u001b[1;33m\u001b[0m\u001b[1;33m\u001b[0m\u001b[0m\n\u001b[0;32m   1335\u001b[0m             \u001b[1;32mtry\u001b[0m\u001b[1;33m:\u001b[0m\u001b[1;33m\u001b[0m\u001b[1;33m\u001b[0m\u001b[0m\n\u001b[1;32m-> 1336\u001b[1;33m                 \u001b[0mresponse\u001b[0m\u001b[1;33m.\u001b[0m\u001b[0mbegin\u001b[0m\u001b[1;33m(\u001b[0m\u001b[1;33m)\u001b[0m\u001b[1;33m\u001b[0m\u001b[1;33m\u001b[0m\u001b[0m\n\u001b[0m\u001b[0;32m   1337\u001b[0m             \u001b[1;32mexcept\u001b[0m \u001b[0mConnectionError\u001b[0m\u001b[1;33m:\u001b[0m\u001b[1;33m\u001b[0m\u001b[1;33m\u001b[0m\u001b[0m\n\u001b[0;32m   1338\u001b[0m                 \u001b[0mself\u001b[0m\u001b[1;33m.\u001b[0m\u001b[0mclose\u001b[0m\u001b[1;33m(\u001b[0m\u001b[1;33m)\u001b[0m\u001b[1;33m\u001b[0m\u001b[1;33m\u001b[0m\u001b[0m\n",
      "\u001b[1;32m~\\Anaconda3\\lib\\http\\client.py\u001b[0m in \u001b[0;36mbegin\u001b[1;34m(self)\u001b[0m\n\u001b[0;32m    304\u001b[0m         \u001b[1;31m# read until we get a non-100 response\u001b[0m\u001b[1;33m\u001b[0m\u001b[1;33m\u001b[0m\u001b[1;33m\u001b[0m\u001b[0m\n\u001b[0;32m    305\u001b[0m         \u001b[1;32mwhile\u001b[0m \u001b[1;32mTrue\u001b[0m\u001b[1;33m:\u001b[0m\u001b[1;33m\u001b[0m\u001b[1;33m\u001b[0m\u001b[0m\n\u001b[1;32m--> 306\u001b[1;33m             \u001b[0mversion\u001b[0m\u001b[1;33m,\u001b[0m \u001b[0mstatus\u001b[0m\u001b[1;33m,\u001b[0m \u001b[0mreason\u001b[0m \u001b[1;33m=\u001b[0m \u001b[0mself\u001b[0m\u001b[1;33m.\u001b[0m\u001b[0m_read_status\u001b[0m\u001b[1;33m(\u001b[0m\u001b[1;33m)\u001b[0m\u001b[1;33m\u001b[0m\u001b[1;33m\u001b[0m\u001b[0m\n\u001b[0m\u001b[0;32m    307\u001b[0m             \u001b[1;32mif\u001b[0m \u001b[0mstatus\u001b[0m \u001b[1;33m!=\u001b[0m \u001b[0mCONTINUE\u001b[0m\u001b[1;33m:\u001b[0m\u001b[1;33m\u001b[0m\u001b[1;33m\u001b[0m\u001b[0m\n\u001b[0;32m    308\u001b[0m                 \u001b[1;32mbreak\u001b[0m\u001b[1;33m\u001b[0m\u001b[1;33m\u001b[0m\u001b[0m\n",
      "\u001b[1;32m~\\Anaconda3\\lib\\http\\client.py\u001b[0m in \u001b[0;36m_read_status\u001b[1;34m(self)\u001b[0m\n\u001b[0;32m    265\u001b[0m \u001b[1;33m\u001b[0m\u001b[0m\n\u001b[0;32m    266\u001b[0m     \u001b[1;32mdef\u001b[0m \u001b[0m_read_status\u001b[0m\u001b[1;33m(\u001b[0m\u001b[0mself\u001b[0m\u001b[1;33m)\u001b[0m\u001b[1;33m:\u001b[0m\u001b[1;33m\u001b[0m\u001b[1;33m\u001b[0m\u001b[0m\n\u001b[1;32m--> 267\u001b[1;33m         \u001b[0mline\u001b[0m \u001b[1;33m=\u001b[0m \u001b[0mstr\u001b[0m\u001b[1;33m(\u001b[0m\u001b[0mself\u001b[0m\u001b[1;33m.\u001b[0m\u001b[0mfp\u001b[0m\u001b[1;33m.\u001b[0m\u001b[0mreadline\u001b[0m\u001b[1;33m(\u001b[0m\u001b[0m_MAXLINE\u001b[0m \u001b[1;33m+\u001b[0m \u001b[1;36m1\u001b[0m\u001b[1;33m)\u001b[0m\u001b[1;33m,\u001b[0m \u001b[1;34m\"iso-8859-1\"\u001b[0m\u001b[1;33m)\u001b[0m\u001b[1;33m\u001b[0m\u001b[1;33m\u001b[0m\u001b[0m\n\u001b[0m\u001b[0;32m    268\u001b[0m         \u001b[1;32mif\u001b[0m \u001b[0mlen\u001b[0m\u001b[1;33m(\u001b[0m\u001b[0mline\u001b[0m\u001b[1;33m)\u001b[0m \u001b[1;33m>\u001b[0m \u001b[0m_MAXLINE\u001b[0m\u001b[1;33m:\u001b[0m\u001b[1;33m\u001b[0m\u001b[1;33m\u001b[0m\u001b[0m\n\u001b[0;32m    269\u001b[0m             \u001b[1;32mraise\u001b[0m \u001b[0mLineTooLong\u001b[0m\u001b[1;33m(\u001b[0m\u001b[1;34m\"status line\"\u001b[0m\u001b[1;33m)\u001b[0m\u001b[1;33m\u001b[0m\u001b[1;33m\u001b[0m\u001b[0m\n",
      "\u001b[1;32m~\\Anaconda3\\lib\\socket.py\u001b[0m in \u001b[0;36mreadinto\u001b[1;34m(self, b)\u001b[0m\n\u001b[0;32m    587\u001b[0m         \u001b[1;32mwhile\u001b[0m \u001b[1;32mTrue\u001b[0m\u001b[1;33m:\u001b[0m\u001b[1;33m\u001b[0m\u001b[1;33m\u001b[0m\u001b[0m\n\u001b[0;32m    588\u001b[0m             \u001b[1;32mtry\u001b[0m\u001b[1;33m:\u001b[0m\u001b[1;33m\u001b[0m\u001b[1;33m\u001b[0m\u001b[0m\n\u001b[1;32m--> 589\u001b[1;33m                 \u001b[1;32mreturn\u001b[0m \u001b[0mself\u001b[0m\u001b[1;33m.\u001b[0m\u001b[0m_sock\u001b[0m\u001b[1;33m.\u001b[0m\u001b[0mrecv_into\u001b[0m\u001b[1;33m(\u001b[0m\u001b[0mb\u001b[0m\u001b[1;33m)\u001b[0m\u001b[1;33m\u001b[0m\u001b[1;33m\u001b[0m\u001b[0m\n\u001b[0m\u001b[0;32m    590\u001b[0m             \u001b[1;32mexcept\u001b[0m \u001b[0mtimeout\u001b[0m\u001b[1;33m:\u001b[0m\u001b[1;33m\u001b[0m\u001b[1;33m\u001b[0m\u001b[0m\n\u001b[0;32m    591\u001b[0m                 \u001b[0mself\u001b[0m\u001b[1;33m.\u001b[0m\u001b[0m_timeout_occurred\u001b[0m \u001b[1;33m=\u001b[0m \u001b[1;32mTrue\u001b[0m\u001b[1;33m\u001b[0m\u001b[1;33m\u001b[0m\u001b[0m\n",
      "\u001b[1;32m~\\Anaconda3\\lib\\site-packages\\urllib3\\contrib\\pyopenssl.py\u001b[0m in \u001b[0;36mrecv_into\u001b[1;34m(self, *args, **kwargs)\u001b[0m\n\u001b[0;32m    311\u001b[0m     \u001b[1;32mdef\u001b[0m \u001b[0mrecv_into\u001b[0m\u001b[1;33m(\u001b[0m\u001b[0mself\u001b[0m\u001b[1;33m,\u001b[0m \u001b[1;33m*\u001b[0m\u001b[0margs\u001b[0m\u001b[1;33m,\u001b[0m \u001b[1;33m**\u001b[0m\u001b[0mkwargs\u001b[0m\u001b[1;33m)\u001b[0m\u001b[1;33m:\u001b[0m\u001b[1;33m\u001b[0m\u001b[1;33m\u001b[0m\u001b[0m\n\u001b[0;32m    312\u001b[0m         \u001b[1;32mtry\u001b[0m\u001b[1;33m:\u001b[0m\u001b[1;33m\u001b[0m\u001b[1;33m\u001b[0m\u001b[0m\n\u001b[1;32m--> 313\u001b[1;33m             \u001b[1;32mreturn\u001b[0m \u001b[0mself\u001b[0m\u001b[1;33m.\u001b[0m\u001b[0mconnection\u001b[0m\u001b[1;33m.\u001b[0m\u001b[0mrecv_into\u001b[0m\u001b[1;33m(\u001b[0m\u001b[1;33m*\u001b[0m\u001b[0margs\u001b[0m\u001b[1;33m,\u001b[0m \u001b[1;33m**\u001b[0m\u001b[0mkwargs\u001b[0m\u001b[1;33m)\u001b[0m\u001b[1;33m\u001b[0m\u001b[1;33m\u001b[0m\u001b[0m\n\u001b[0m\u001b[0;32m    314\u001b[0m         \u001b[1;32mexcept\u001b[0m \u001b[0mOpenSSL\u001b[0m\u001b[1;33m.\u001b[0m\u001b[0mSSL\u001b[0m\u001b[1;33m.\u001b[0m\u001b[0mSysCallError\u001b[0m \u001b[1;32mas\u001b[0m \u001b[0me\u001b[0m\u001b[1;33m:\u001b[0m\u001b[1;33m\u001b[0m\u001b[1;33m\u001b[0m\u001b[0m\n\u001b[0;32m    315\u001b[0m             \u001b[1;32mif\u001b[0m \u001b[0mself\u001b[0m\u001b[1;33m.\u001b[0m\u001b[0msuppress_ragged_eofs\u001b[0m \u001b[1;32mand\u001b[0m \u001b[0me\u001b[0m\u001b[1;33m.\u001b[0m\u001b[0margs\u001b[0m \u001b[1;33m==\u001b[0m \u001b[1;33m(\u001b[0m\u001b[1;33m-\u001b[0m\u001b[1;36m1\u001b[0m\u001b[1;33m,\u001b[0m \u001b[1;34m\"Unexpected EOF\"\u001b[0m\u001b[1;33m)\u001b[0m\u001b[1;33m:\u001b[0m\u001b[1;33m\u001b[0m\u001b[1;33m\u001b[0m\u001b[0m\n",
      "\u001b[1;32m~\\Anaconda3\\lib\\site-packages\\OpenSSL\\SSL.py\u001b[0m in \u001b[0;36mrecv_into\u001b[1;34m(self, buffer, nbytes, flags)\u001b[0m\n\u001b[0;32m   1819\u001b[0m             \u001b[0mresult\u001b[0m \u001b[1;33m=\u001b[0m \u001b[0m_lib\u001b[0m\u001b[1;33m.\u001b[0m\u001b[0mSSL_peek\u001b[0m\u001b[1;33m(\u001b[0m\u001b[0mself\u001b[0m\u001b[1;33m.\u001b[0m\u001b[0m_ssl\u001b[0m\u001b[1;33m,\u001b[0m \u001b[0mbuf\u001b[0m\u001b[1;33m,\u001b[0m \u001b[0mnbytes\u001b[0m\u001b[1;33m)\u001b[0m\u001b[1;33m\u001b[0m\u001b[1;33m\u001b[0m\u001b[0m\n\u001b[0;32m   1820\u001b[0m         \u001b[1;32melse\u001b[0m\u001b[1;33m:\u001b[0m\u001b[1;33m\u001b[0m\u001b[1;33m\u001b[0m\u001b[0m\n\u001b[1;32m-> 1821\u001b[1;33m             \u001b[0mresult\u001b[0m \u001b[1;33m=\u001b[0m \u001b[0m_lib\u001b[0m\u001b[1;33m.\u001b[0m\u001b[0mSSL_read\u001b[0m\u001b[1;33m(\u001b[0m\u001b[0mself\u001b[0m\u001b[1;33m.\u001b[0m\u001b[0m_ssl\u001b[0m\u001b[1;33m,\u001b[0m \u001b[0mbuf\u001b[0m\u001b[1;33m,\u001b[0m \u001b[0mnbytes\u001b[0m\u001b[1;33m)\u001b[0m\u001b[1;33m\u001b[0m\u001b[1;33m\u001b[0m\u001b[0m\n\u001b[0m\u001b[0;32m   1822\u001b[0m         \u001b[0mself\u001b[0m\u001b[1;33m.\u001b[0m\u001b[0m_raise_ssl_error\u001b[0m\u001b[1;33m(\u001b[0m\u001b[0mself\u001b[0m\u001b[1;33m.\u001b[0m\u001b[0m_ssl\u001b[0m\u001b[1;33m,\u001b[0m \u001b[0mresult\u001b[0m\u001b[1;33m)\u001b[0m\u001b[1;33m\u001b[0m\u001b[1;33m\u001b[0m\u001b[0m\n\u001b[0;32m   1823\u001b[0m \u001b[1;33m\u001b[0m\u001b[0m\n",
      "\u001b[1;31mKeyboardInterrupt\u001b[0m: "
     ]
    }
   ],
   "source": [
    "def download_image(item):\n",
    "    print(item)\n",
    "    import requests\n",
    "    import time\n",
    "    if item[\"medias\"] == None:\n",
    "        return \n",
    "    item[\"medias\"] = item[\"medias\"].strip(\"][\")\n",
    "    item[\"medias\"] = item[\"medias\"].strip(\"\\'\")\n",
    "    \n",
    "    r = requests.get(item[\"medias\"], stream=True)\n",
    "    if os.path.isdir(\"Data/{}/content\".format(item[\"search_term\"])) == False:\n",
    "        os.mkdir(\"Data/{}/content\".format(item[\"search_term\"]))\n",
    "    ext = r.headers['content-type'].split('/')[-1]\n",
    "    ext = ext.split(\";\")[0] # converts response headers mime type to an extension (may not work with everything)\n",
    "    with open(\"Data/{}/content/{}.{}\".format(item[\"search_term\"],item[\"ID\"],ext), 'wb') as f: # open the file to write as binary - replace 'wb' with 'w' for text files\n",
    "        for chunk in r.iter_content(1024): # iterate on stream using 1KB packets\n",
    "            f.write(chunk) # write the file\n",
    "\n",
    "\n",
    "image_df = image_df.apply(download_image , 1)"
   ]
  },
  {
   "cell_type": "code",
   "execution_count": null,
   "metadata": {},
   "outputs": [],
   "source": [
    "# For Extracting Location from "
   ]
  }
 ],
 "metadata": {
  "kernelspec": {
   "display_name": "Python 3.7.4 64-bit ('base': conda)",
   "language": "python",
   "name": "python_defaultSpec_1597671201978"
  },
  "language_info": {
   "codemirror_mode": {
    "name": "ipython",
    "version": 3
   },
   "file_extension": ".py",
   "mimetype": "text/x-python",
   "name": "python",
   "nbconvert_exporter": "python",
   "pygments_lexer": "ipython3",
   "version": "3.7.4-final"
  }
 },
 "nbformat": 4,
 "nbformat_minor": 2
}