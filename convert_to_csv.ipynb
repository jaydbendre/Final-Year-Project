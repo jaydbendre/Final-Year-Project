{
 "metadata": {
  "language_info": {
   "codemirror_mode": {
    "name": "ipython",
    "version": 3
   },
   "file_extension": ".py",
   "mimetype": "text/x-python",
   "name": "python",
   "nbconvert_exporter": "python",
   "pygments_lexer": "ipython3",
   "version": "3.7.4-final"
  },
  "orig_nbformat": 2,
  "kernelspec": {
   "name": "python_defaultSpec_1595758463686",
   "display_name": "Python 3.7.4 64-bit ('base': conda)"
  }
 },
 "nbformat": 4,
 "nbformat_minor": 2,
 "cells": [
  {
   "cell_type": "code",
   "execution_count": 18,
   "metadata": {},
   "outputs": [],
   "source": [
    "import pandas as pd\n",
    "import glob\n",
    "import json"
   ]
  },
  {
   "cell_type": "code",
   "execution_count": 19,
   "metadata": {},
   "outputs": [],
   "source": [
    "folders = glob.glob(\"Data/*\")"
   ]
  },
  {
   "cell_type": "code",
   "execution_count": 20,
   "metadata": {},
   "outputs": [],
   "source": [
    "dictlist = []\n",
    "\n",
    "for folder in folders:\n",
    "    if folder == \"Data/user\":\n",
    "        continue\n",
    "    files = glob.glob(folder + \"/tweets/*\")\n",
    "    for file in files:\n",
    "        json_string = open(file,'r',encoding=\"utf8\").read()\n",
    "        json_dict = json.loads(json_string)\n",
    "        json_dict[\"search_term\"] = folder[5:].capitalize()\n",
    "        dictlist.append(json_dict)"
   ]
  },
  {
   "cell_type": "code",
   "execution_count": 21,
   "metadata": {},
   "outputs": [],
   "source": [
    "df = pd.DataFrame(dictlist)\n",
    "df = df.replace({'\\n': ' '}, regex=True) # remove linebreaks in the dataframe\n",
    "df = df.replace({'\\t': ' '}, regex=True) # remove tabs in the dataframe\n",
    "df = df.replace({'\\r': ' '}, regex=True) # remove carriage return in the dataframe"
   ]
  },
  {
   "cell_type": "code",
   "execution_count": 22,
   "metadata": {},
   "outputs": [],
   "source": [
    "df.sort_values(\"search_term\",ascending = True,inplace=True,na_position=\"last\")"
   ]
  },
  {
   "cell_type": "code",
   "execution_count": 23,
   "metadata": {},
   "outputs": [
    {
     "output_type": "execute_result",
     "data": {
      "text/plain": "         usernameTweet                   ID  \\\n0            Rohit_Tn1  1287327756217274375   \n22       StanKamanguya  1287327845119909890   \n23               _GR19  1287327845157679105   \n24        elfairyLie92  1287327846294118405   \n25       myrandobrando  1287327854003331072   \n...                ...                  ...   \n12481       wf_emerson  1287323351481032704   \n12482  wf_portagpraire  1287323359307534336   \n12483      wf_thompson  1287323365259304960   \n12485   eleanorcastile  1287324165075345408   \n12506        haligonia  1287327692514181122   \n\n                                                    text  \\\n0      Already oru movie  act  pannirukkaru sariya po...   \n22     You will get myriad reasons as to why undertak...   \n23     # TPG1   ACT  @2M786  @oix6y  @ovs_0  @f18_er ...   \n24     bornfreeone_kis Most of our problems are becau...   \n25     I’ll admit I  act  a little fake on main but m...   \n...                                                  ...   \n12481  Sun 05:00: Today: Sunny. A mix of sun and clou...   \n12482  Sun 05:00: Today: Sunny. A mix of sun and clou...   \n12483  Sun 05:00: Today: cool. Showers with risk of a...   \n12485  We had a lovely big  thunderstorm  yesterday a...   \n12506   Headlines | Severe  thunderstorm  watch in ef...   \n\n                                               url  nbr_retweet  nbr_favorite  \\\n0            /Rohit_Tn1/status/1287327756217274375            3             0   \n22       /StanKamanguya/status/1287327845119909890            0             0   \n23               /_GR19/status/1287327845157679105            2             2   \n24        /elfairyLie92/status/1287327846294118405            0             0   \n25       /myrandobrando/status/1287327854003331072            0             0   \n...                                            ...          ...           ...   \n12481       /wf_emerson/status/1287323351481032704            0             0   \n12482  /wf_portagpraire/status/1287323359307534336            0             0   \n12483      /wf_thompson/status/1287323365259304960            0             0   \n12485   /eleanorcastile/status/1287324165075345408            0             1   \n12506        /haligonia/status/1287327692514181122            0             0   \n\n       nbr_reply             datetime  is_reply  is_retweet  \\\n0              0  2020-07-26 15:33:49      True       False   \n22             1  2020-07-26 15:34:10     False       False   \n23             1  2020-07-26 15:34:10     False       False   \n24             0  2020-07-26 15:34:10     False       False   \n25             0  2020-07-26 15:34:12     False       False   \n...          ...                  ...       ...         ...   \n12481          0  2020-07-26 15:16:18     False       False   \n12482          0  2020-07-26 15:16:20     False       False   \n12483          0  2020-07-26 15:16:22     False       False   \n12485          0  2020-07-26 15:19:32      True       False   \n12506          0  2020-07-26 15:33:33     False       False   \n\n                   user_id   search_term has_media medias  \n0      1263496177007263750           act       NaN    NaN  \n22      895317002323144704           act       NaN    NaN  \n23      768900791008624640           act       NaN    NaN  \n24               374272899           act       NaN    NaN  \n25     1267011209632481280           act       NaN    NaN  \n...                    ...           ...       ...    ...  \n12481           1107171470  Thunderstorm       NaN    NaN  \n12482            202001769  Thunderstorm       NaN    NaN  \n12483            168845177  Thunderstorm       NaN    NaN  \n12485             20088540  Thunderstorm       NaN    NaN  \n12506             16308920  Thunderstorm       NaN    NaN  \n\n[12507 rows x 14 columns]",
      "text/html": "<div>\n<style scoped>\n    .dataframe tbody tr th:only-of-type {\n        vertical-align: middle;\n    }\n\n    .dataframe tbody tr th {\n        vertical-align: top;\n    }\n\n    .dataframe thead th {\n        text-align: right;\n    }\n</style>\n<table border=\"1\" class=\"dataframe\">\n  <thead>\n    <tr style=\"text-align: right;\">\n      <th></th>\n      <th>usernameTweet</th>\n      <th>ID</th>\n      <th>text</th>\n      <th>url</th>\n      <th>nbr_retweet</th>\n      <th>nbr_favorite</th>\n      <th>nbr_reply</th>\n      <th>datetime</th>\n      <th>is_reply</th>\n      <th>is_retweet</th>\n      <th>user_id</th>\n      <th>search_term</th>\n      <th>has_media</th>\n      <th>medias</th>\n    </tr>\n  </thead>\n  <tbody>\n    <tr>\n      <td>0</td>\n      <td>Rohit_Tn1</td>\n      <td>1287327756217274375</td>\n      <td>Already oru movie  act  pannirukkaru sariya po...</td>\n      <td>/Rohit_Tn1/status/1287327756217274375</td>\n      <td>3</td>\n      <td>0</td>\n      <td>0</td>\n      <td>2020-07-26 15:33:49</td>\n      <td>True</td>\n      <td>False</td>\n      <td>1263496177007263750</td>\n      <td>act</td>\n      <td>NaN</td>\n      <td>NaN</td>\n    </tr>\n    <tr>\n      <td>22</td>\n      <td>StanKamanguya</td>\n      <td>1287327845119909890</td>\n      <td>You will get myriad reasons as to why undertak...</td>\n      <td>/StanKamanguya/status/1287327845119909890</td>\n      <td>0</td>\n      <td>0</td>\n      <td>1</td>\n      <td>2020-07-26 15:34:10</td>\n      <td>False</td>\n      <td>False</td>\n      <td>895317002323144704</td>\n      <td>act</td>\n      <td>NaN</td>\n      <td>NaN</td>\n    </tr>\n    <tr>\n      <td>23</td>\n      <td>_GR19</td>\n      <td>1287327845157679105</td>\n      <td># TPG1   ACT  @2M786  @oix6y  @ovs_0  @f18_er ...</td>\n      <td>/_GR19/status/1287327845157679105</td>\n      <td>2</td>\n      <td>2</td>\n      <td>1</td>\n      <td>2020-07-26 15:34:10</td>\n      <td>False</td>\n      <td>False</td>\n      <td>768900791008624640</td>\n      <td>act</td>\n      <td>NaN</td>\n      <td>NaN</td>\n    </tr>\n    <tr>\n      <td>24</td>\n      <td>elfairyLie92</td>\n      <td>1287327846294118405</td>\n      <td>bornfreeone_kis Most of our problems are becau...</td>\n      <td>/elfairyLie92/status/1287327846294118405</td>\n      <td>0</td>\n      <td>0</td>\n      <td>0</td>\n      <td>2020-07-26 15:34:10</td>\n      <td>False</td>\n      <td>False</td>\n      <td>374272899</td>\n      <td>act</td>\n      <td>NaN</td>\n      <td>NaN</td>\n    </tr>\n    <tr>\n      <td>25</td>\n      <td>myrandobrando</td>\n      <td>1287327854003331072</td>\n      <td>I’ll admit I  act  a little fake on main but m...</td>\n      <td>/myrandobrando/status/1287327854003331072</td>\n      <td>0</td>\n      <td>0</td>\n      <td>0</td>\n      <td>2020-07-26 15:34:12</td>\n      <td>False</td>\n      <td>False</td>\n      <td>1267011209632481280</td>\n      <td>act</td>\n      <td>NaN</td>\n      <td>NaN</td>\n    </tr>\n    <tr>\n      <td>...</td>\n      <td>...</td>\n      <td>...</td>\n      <td>...</td>\n      <td>...</td>\n      <td>...</td>\n      <td>...</td>\n      <td>...</td>\n      <td>...</td>\n      <td>...</td>\n      <td>...</td>\n      <td>...</td>\n      <td>...</td>\n      <td>...</td>\n      <td>...</td>\n    </tr>\n    <tr>\n      <td>12481</td>\n      <td>wf_emerson</td>\n      <td>1287323351481032704</td>\n      <td>Sun 05:00: Today: Sunny. A mix of sun and clou...</td>\n      <td>/wf_emerson/status/1287323351481032704</td>\n      <td>0</td>\n      <td>0</td>\n      <td>0</td>\n      <td>2020-07-26 15:16:18</td>\n      <td>False</td>\n      <td>False</td>\n      <td>1107171470</td>\n      <td>Thunderstorm</td>\n      <td>NaN</td>\n      <td>NaN</td>\n    </tr>\n    <tr>\n      <td>12482</td>\n      <td>wf_portagpraire</td>\n      <td>1287323359307534336</td>\n      <td>Sun 05:00: Today: Sunny. A mix of sun and clou...</td>\n      <td>/wf_portagpraire/status/1287323359307534336</td>\n      <td>0</td>\n      <td>0</td>\n      <td>0</td>\n      <td>2020-07-26 15:16:20</td>\n      <td>False</td>\n      <td>False</td>\n      <td>202001769</td>\n      <td>Thunderstorm</td>\n      <td>NaN</td>\n      <td>NaN</td>\n    </tr>\n    <tr>\n      <td>12483</td>\n      <td>wf_thompson</td>\n      <td>1287323365259304960</td>\n      <td>Sun 05:00: Today: cool. Showers with risk of a...</td>\n      <td>/wf_thompson/status/1287323365259304960</td>\n      <td>0</td>\n      <td>0</td>\n      <td>0</td>\n      <td>2020-07-26 15:16:22</td>\n      <td>False</td>\n      <td>False</td>\n      <td>168845177</td>\n      <td>Thunderstorm</td>\n      <td>NaN</td>\n      <td>NaN</td>\n    </tr>\n    <tr>\n      <td>12485</td>\n      <td>eleanorcastile</td>\n      <td>1287324165075345408</td>\n      <td>We had a lovely big  thunderstorm  yesterday a...</td>\n      <td>/eleanorcastile/status/1287324165075345408</td>\n      <td>0</td>\n      <td>1</td>\n      <td>0</td>\n      <td>2020-07-26 15:19:32</td>\n      <td>True</td>\n      <td>False</td>\n      <td>20088540</td>\n      <td>Thunderstorm</td>\n      <td>NaN</td>\n      <td>NaN</td>\n    </tr>\n    <tr>\n      <td>12506</td>\n      <td>haligonia</td>\n      <td>1287327692514181122</td>\n      <td>Headlines | Severe  thunderstorm  watch in ef...</td>\n      <td>/haligonia/status/1287327692514181122</td>\n      <td>0</td>\n      <td>0</td>\n      <td>0</td>\n      <td>2020-07-26 15:33:33</td>\n      <td>False</td>\n      <td>False</td>\n      <td>16308920</td>\n      <td>Thunderstorm</td>\n      <td>NaN</td>\n      <td>NaN</td>\n    </tr>\n  </tbody>\n</table>\n<p>12507 rows × 14 columns</p>\n</div>"
     },
     "metadata": {},
     "execution_count": 23
    }
   ],
   "source": [
    "df"
   ]
  },
  {
   "cell_type": "code",
   "execution_count": null,
   "metadata": {},
   "outputs": [],
   "source": []
  }
 ]
}