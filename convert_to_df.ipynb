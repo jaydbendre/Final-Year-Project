{
 "cells": [
  {
   "cell_type": "code",
   "execution_count": 9,
   "metadata": {},
   "outputs": [],
   "source": [
    "#scrapy crawl TweetScraper -a query=\"foo,#bar\"\n",
    "import pandas as pd\n",
    "import glob\n",
    "import json"
   ]
  },
  {
   "cell_type": "code",
   "execution_count": 10,
   "metadata": {},
   "outputs": [
    {
     "output_type": "execute_result",
     "data": {
      "text/plain": "880"
     },
     "metadata": {},
     "execution_count": 10
    }
   ],
   "source": [
    "files = glob.glob(\"TweetScraper/Data/tweet/*\")\n",
    "len(files)"
   ]
  },
  {
   "cell_type": "code",
   "execution_count": 11,
   "metadata": {},
   "outputs": [
    {
     "output_type": "execute_result",
     "data": {
      "text/plain": "'c:\\\\Users\\\\2017j\\\\Desktop\\\\Jay-Projects\\\\2020\\\\Final-Year-Project'"
     },
     "metadata": {},
     "execution_count": 11
    }
   ],
   "source": [
    "pwd"
   ]
  },
  {
   "cell_type": "code",
   "execution_count": 12,
   "metadata": {},
   "outputs": [],
   "source": [
    "dictlist = []\n",
    "for file in files:\n",
    "    json_string = open(file,'r',encoding=\"utf8\").read()\n",
    "    json_dict = json.loads(json_string)\n",
    "    dictlist.append(json_dict)"
   ]
  },
  {
   "cell_type": "code",
   "execution_count": 13,
   "metadata": {},
   "outputs": [],
   "source": [
    "df = pd.DataFrame(dictlist)\n",
    "df = df.replace({'\\n': ' '}, regex=True) # remove linebreaks in the dataframe\n",
    "df = df.replace({'\\t': ' '}, regex=True) # remove tabs in the dataframe\n",
    "df = df.replace({'\\r': ' '}, regex=True) # remove carriage return in the dataframe"
   ]
  },
  {
   "cell_type": "code",
   "execution_count": 14,
   "metadata": {},
   "outputs": [
    {
     "output_type": "execute_result",
     "data": {
      "text/plain": "       usernameTweet                   ID  \\\n0    Pratima07835944  1270274986515857413   \n1        rushabh1412  1270275157458857984   \n2      IrbazShaikh98  1270275276350517248   \n3    Chin2akakshitij  1270275386119565313   \n4    SharmileeNimba2  1270275387101077504   \n..               ...                  ...   \n875         TheQuint  1271744120503975936   \n876        1998Rishu  1271747474001031168   \n877        1998Rishu  1271747530858979328   \n878   thebetterindia  1271748250291200000   \n879      vasu4mearth  1271748474178953221   \n\n                                                  text  \\\n0    # राज्यपाल_हटाव_महाराष्ट्र_बचाव   #cancelfinal...   \n1    @ AUThackeray  @CMOMaharashtra   Rn to student...   \n2    # राज्यपाल_हटाव_महाराष्ट्र_बचाव  #भाज्यपालकोशि...   \n3    Puppets of Political parties try to blot the i...   \n4    # राज्यपाल_हटाव_महाराष्ट्र_बचाव   #cancelfinal...   \n..                                                 ...   \n875  # MyReport  | \"Even if I am able to travel fro...   \n876  Mr Goyal has had a brilliant academic record –...   \n877  Mr Goyal has had a brilliant academic record –...   \n878  # SaturdayMotivation  From #Mumbai  Slums to U...   \n879  Mumbai   University  drops Rohinton Mistry nov...   \n\n                                             url  nbr_retweet  nbr_favorite  \\\n0    /Pratima07835944/status/1270274986515857413            8            23   \n1        /rushabh1412/status/1270275157458857984            0             2   \n2      /IrbazShaikh98/status/1270275276350517248            0             2   \n3    /Chin2akakshitij/status/1270275386119565313           20            37   \n4    /SharmileeNimba2/status/1270275387101077504            1             1   \n..                                           ...          ...           ...   \n875         /TheQuint/status/1271744120503975936            1            11   \n876        /1998Rishu/status/1271747474001031168            1             1   \n877        /1998Rishu/status/1271747530858979328            0             0   \n878   /thebetterindia/status/1271748250291200000            1            13   \n879      /vasu4mearth/status/1271748474178953221            1             1   \n\n     nbr_reply             datetime  is_reply  is_retweet  \\\n0            1  2020-06-09 14:12:12      True       False   \n1            0  2020-06-09 14:12:52     False       False   \n2            0  2020-06-09 14:13:21     False       False   \n3            0  2020-06-09 14:13:47     False       False   \n4            0  2020-06-09 14:13:47     False       False   \n..         ...                  ...       ...         ...   \n875          0  2020-06-13 15:30:00     False       False   \n876          0  2020-06-13 15:43:20      True       False   \n877          0  2020-06-13 15:43:33     False       False   \n878          0  2020-06-13 15:46:25     False       False   \n879          1  2020-06-13 15:47:18     False       False   \n\n                 user_id has_media                     medias  \n0    1257673470172975105       NaN                        NaN  \n1    1043763124896186368       NaN                        NaN  \n2    1262705405961965571       NaN                        NaN  \n3              329147230       NaN                        NaN  \n4    1264065217098510338       NaN                        NaN  \n..                   ...       ...                        ...  \n875           2982269822      True  [https://t.co/hQR6UyeMF3]  \n876  1159483363209539585       NaN                        NaN  \n877  1159483363209539585       NaN                        NaN  \n878             16093478      True  [https://t.co/CLGFmyKX9I]  \n879            191715267      True  [https://t.co/wBvNY161WI]  \n\n[880 rows x 13 columns]",
      "text/html": "<div>\n<style scoped>\n    .dataframe tbody tr th:only-of-type {\n        vertical-align: middle;\n    }\n\n    .dataframe tbody tr th {\n        vertical-align: top;\n    }\n\n    .dataframe thead th {\n        text-align: right;\n    }\n</style>\n<table border=\"1\" class=\"dataframe\">\n  <thead>\n    <tr style=\"text-align: right;\">\n      <th></th>\n      <th>usernameTweet</th>\n      <th>ID</th>\n      <th>text</th>\n      <th>url</th>\n      <th>nbr_retweet</th>\n      <th>nbr_favorite</th>\n      <th>nbr_reply</th>\n      <th>datetime</th>\n      <th>is_reply</th>\n      <th>is_retweet</th>\n      <th>user_id</th>\n      <th>has_media</th>\n      <th>medias</th>\n    </tr>\n  </thead>\n  <tbody>\n    <tr>\n      <td>0</td>\n      <td>Pratima07835944</td>\n      <td>1270274986515857413</td>\n      <td># राज्यपाल_हटाव_महाराष्ट्र_बचाव   #cancelfinal...</td>\n      <td>/Pratima07835944/status/1270274986515857413</td>\n      <td>8</td>\n      <td>23</td>\n      <td>1</td>\n      <td>2020-06-09 14:12:12</td>\n      <td>True</td>\n      <td>False</td>\n      <td>1257673470172975105</td>\n      <td>NaN</td>\n      <td>NaN</td>\n    </tr>\n    <tr>\n      <td>1</td>\n      <td>rushabh1412</td>\n      <td>1270275157458857984</td>\n      <td>@ AUThackeray  @CMOMaharashtra   Rn to student...</td>\n      <td>/rushabh1412/status/1270275157458857984</td>\n      <td>0</td>\n      <td>2</td>\n      <td>0</td>\n      <td>2020-06-09 14:12:52</td>\n      <td>False</td>\n      <td>False</td>\n      <td>1043763124896186368</td>\n      <td>NaN</td>\n      <td>NaN</td>\n    </tr>\n    <tr>\n      <td>2</td>\n      <td>IrbazShaikh98</td>\n      <td>1270275276350517248</td>\n      <td># राज्यपाल_हटाव_महाराष्ट्र_बचाव  #भाज्यपालकोशि...</td>\n      <td>/IrbazShaikh98/status/1270275276350517248</td>\n      <td>0</td>\n      <td>2</td>\n      <td>0</td>\n      <td>2020-06-09 14:13:21</td>\n      <td>False</td>\n      <td>False</td>\n      <td>1262705405961965571</td>\n      <td>NaN</td>\n      <td>NaN</td>\n    </tr>\n    <tr>\n      <td>3</td>\n      <td>Chin2akakshitij</td>\n      <td>1270275386119565313</td>\n      <td>Puppets of Political parties try to blot the i...</td>\n      <td>/Chin2akakshitij/status/1270275386119565313</td>\n      <td>20</td>\n      <td>37</td>\n      <td>0</td>\n      <td>2020-06-09 14:13:47</td>\n      <td>False</td>\n      <td>False</td>\n      <td>329147230</td>\n      <td>NaN</td>\n      <td>NaN</td>\n    </tr>\n    <tr>\n      <td>4</td>\n      <td>SharmileeNimba2</td>\n      <td>1270275387101077504</td>\n      <td># राज्यपाल_हटाव_महाराष्ट्र_बचाव   #cancelfinal...</td>\n      <td>/SharmileeNimba2/status/1270275387101077504</td>\n      <td>1</td>\n      <td>1</td>\n      <td>0</td>\n      <td>2020-06-09 14:13:47</td>\n      <td>False</td>\n      <td>False</td>\n      <td>1264065217098510338</td>\n      <td>NaN</td>\n      <td>NaN</td>\n    </tr>\n    <tr>\n      <td>...</td>\n      <td>...</td>\n      <td>...</td>\n      <td>...</td>\n      <td>...</td>\n      <td>...</td>\n      <td>...</td>\n      <td>...</td>\n      <td>...</td>\n      <td>...</td>\n      <td>...</td>\n      <td>...</td>\n      <td>...</td>\n      <td>...</td>\n    </tr>\n    <tr>\n      <td>875</td>\n      <td>TheQuint</td>\n      <td>1271744120503975936</td>\n      <td># MyReport  | \"Even if I am able to travel fro...</td>\n      <td>/TheQuint/status/1271744120503975936</td>\n      <td>1</td>\n      <td>11</td>\n      <td>0</td>\n      <td>2020-06-13 15:30:00</td>\n      <td>False</td>\n      <td>False</td>\n      <td>2982269822</td>\n      <td>True</td>\n      <td>[https://t.co/hQR6UyeMF3]</td>\n    </tr>\n    <tr>\n      <td>876</td>\n      <td>1998Rishu</td>\n      <td>1271747474001031168</td>\n      <td>Mr Goyal has had a brilliant academic record –...</td>\n      <td>/1998Rishu/status/1271747474001031168</td>\n      <td>1</td>\n      <td>1</td>\n      <td>0</td>\n      <td>2020-06-13 15:43:20</td>\n      <td>True</td>\n      <td>False</td>\n      <td>1159483363209539585</td>\n      <td>NaN</td>\n      <td>NaN</td>\n    </tr>\n    <tr>\n      <td>877</td>\n      <td>1998Rishu</td>\n      <td>1271747530858979328</td>\n      <td>Mr Goyal has had a brilliant academic record –...</td>\n      <td>/1998Rishu/status/1271747530858979328</td>\n      <td>0</td>\n      <td>0</td>\n      <td>0</td>\n      <td>2020-06-13 15:43:33</td>\n      <td>False</td>\n      <td>False</td>\n      <td>1159483363209539585</td>\n      <td>NaN</td>\n      <td>NaN</td>\n    </tr>\n    <tr>\n      <td>878</td>\n      <td>thebetterindia</td>\n      <td>1271748250291200000</td>\n      <td># SaturdayMotivation  From #Mumbai  Slums to U...</td>\n      <td>/thebetterindia/status/1271748250291200000</td>\n      <td>1</td>\n      <td>13</td>\n      <td>0</td>\n      <td>2020-06-13 15:46:25</td>\n      <td>False</td>\n      <td>False</td>\n      <td>16093478</td>\n      <td>True</td>\n      <td>[https://t.co/CLGFmyKX9I]</td>\n    </tr>\n    <tr>\n      <td>879</td>\n      <td>vasu4mearth</td>\n      <td>1271748474178953221</td>\n      <td>Mumbai   University  drops Rohinton Mistry nov...</td>\n      <td>/vasu4mearth/status/1271748474178953221</td>\n      <td>1</td>\n      <td>1</td>\n      <td>1</td>\n      <td>2020-06-13 15:47:18</td>\n      <td>False</td>\n      <td>False</td>\n      <td>191715267</td>\n      <td>True</td>\n      <td>[https://t.co/wBvNY161WI]</td>\n    </tr>\n  </tbody>\n</table>\n<p>880 rows × 13 columns</p>\n</div>"
     },
     "metadata": {},
     "execution_count": 14
    }
   ],
   "source": [
    "df"
   ]
  },
  {
   "cell_type": "code",
   "execution_count": 15,
   "metadata": {},
   "outputs": [],
   "source": [
    "df.to_csv(\"test.csv\")"
   ]
  },
  {
   "cell_type": "code",
   "execution_count": 16,
   "metadata": {},
   "outputs": [
    {
     "output_type": "execute_result",
     "data": {
      "text/plain": "Index(['usernameTweet', 'ID', 'text', 'url', 'nbr_retweet', 'nbr_favorite',\n       'nbr_reply', 'datetime', 'is_reply', 'is_retweet', 'user_id',\n       'has_media', 'medias'],\n      dtype='object')"
     },
     "metadata": {},
     "execution_count": 16
    }
   ],
   "source": [
    "df.columns"
   ]
  },
  {
   "cell_type": "code",
   "execution_count": null,
   "metadata": {},
   "outputs": [],
   "source": []
  }
 ],
 "metadata": {
  "language_info": {
   "codemirror_mode": {
    "name": "ipython",
    "version": 3
   },
   "file_extension": ".py",
   "mimetype": "text/x-python",
   "name": "python",
   "nbconvert_exporter": "python",
   "pygments_lexer": "ipython3",
   "version": "3.8.1-final"
  },
  "orig_nbformat": 2,
  "kernelspec": {
   "name": "python3",
   "display_name": "Python 3"
  }
 },
 "nbformat": 4,
 "nbformat_minor": 2
}