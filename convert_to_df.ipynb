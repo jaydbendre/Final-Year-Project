{
 "cells": [
  {
   "cell_type": "code",
   "execution_count": 1,
   "metadata": {},
   "outputs": [],
   "source": [
    "#scrapy crawl TweetScraper -a query=\"foo,#bar\"\n",
    "import pandas as pd\n",
    "import glob\n",
    "import json"
   ]
  },
  {
   "cell_type": "code",
   "execution_count": 2,
   "metadata": {},
   "outputs": [
    {
     "output_type": "execute_result",
     "data": {
      "text/plain": "805"
     },
     "metadata": {},
     "execution_count": 2
    }
   ],
   "source": [
    "files = glob.glob(\"TweetScraper/Data/tweet/*\")\n",
    "len(files)"
   ]
  },
  {
   "cell_type": "code",
   "execution_count": 3,
   "metadata": {},
   "outputs": [
    {
     "output_type": "execute_result",
     "data": {
      "text/plain": "'c:\\\\Users\\\\2017j\\\\Desktop\\\\Jay-Projects\\\\2020\\\\Final-Year-Project'"
     },
     "metadata": {},
     "execution_count": 3
    }
   ],
   "source": [
    "pwd"
   ]
  },
  {
   "cell_type": "code",
   "execution_count": 4,
   "metadata": {},
   "outputs": [],
   "source": [
    "dictlist = []\n",
    "for file in files:\n",
    "    json_string = open(file,'r',encoding=\"utf8\").read()\n",
    "    json_dict = json.loads(json_string)\n",
    "    dictlist.append(json_dict)"
   ]
  },
  {
   "cell_type": "code",
   "execution_count": 5,
   "metadata": {},
   "outputs": [],
   "source": [
    "df = pd.DataFrame(dictlist)\n",
    "df = df.replace({'\\n': ' '}, regex=True) # remove linebreaks in the dataframe\n",
    "df = df.replace({'\\t': ' '}, regex=True) # remove tabs in the dataframe\n",
    "df = df.replace({'\\r': ' '}, regex=True) # remove carriage return in the dataframe"
   ]
  },
  {
   "cell_type": "code",
   "execution_count": 6,
   "metadata": {},
   "outputs": [
    {
     "output_type": "execute_result",
     "data": {
      "text/plain": "       usernameTweet                   ID  \\\n0    Cricowlofficial  1254462580459896832   \n1    PairsonnalitesU  1254535104510091265   \n2      hindikhabar99  1254614141161136129   \n3      hindikhabar99  1254614212216786946   \n4      hindikhabar99  1254614275466895361   \n..               ...                  ...   \n800   SyedRehanAzhar  1285485422684954624   \n801   pavan__hosalli  1285500400225980418   \n802      pradiptomba  1285517912720044032   \n803       walaa_news  1285521174152253440   \n804       guestplant  1285528900664274944   \n\n                                                  text  \\\n0    Check out Yuvi paji and Boom Boom Bumrah funny...   \n1    Fighting Stigma :  MP Happiness Dept to help  ...   \n2    अगर आप यह वीडियो देखना चाहते हैं तो youtube पर...   \n3    अगर आप यह वीडियो देखना चाहते हैं तो youtube पर...   \n4    अगर आप यह वीडियो देखना चाहते हैं तो youtube पर...   \n..                                                 ...   \n800  No, they are the biggest destroyers of  cricke...   \n801  India  pull out of women's  cricket  team prop...   \n802  This is what money power of  India  in  cricke...   \n803  India  pull out of women’s  cricket  team prop...   \n804  ICC Postpones Men's T20 World Cup due to  Covi...   \n\n                                             url  nbr_retweet  nbr_favorite  \\\n0    /Cricowlofficial/status/1254462580459896832            0             1   \n1    /PairsonnalitesU/status/1254535104510091265            0             0   \n2      /hindikhabar99/status/1254614141161136129            0             0   \n3      /hindikhabar99/status/1254614212216786946            0             0   \n4      /hindikhabar99/status/1254614275466895361            0             0   \n..                                           ...          ...           ...   \n800   /SyedRehanAzhar/status/1285485422684954624            0             1   \n801   /pavan__hosalli/status/1285500400225980418            0             0   \n802      /pradiptomba/status/1285517912720044032            0             0   \n803       /walaa_news/status/1285521174152253440            0             0   \n804       /guestplant/status/1285528900664274944            0             1   \n\n     nbr_reply             datetime  is_reply  is_retweet  \\\n0            0  2020-04-26 22:59:20     False       False   \n1            0  2020-04-27 03:47:31     False       False   \n2            0  2020-04-27 09:01:35     False       False   \n3            0  2020-04-27 09:01:52     False       False   \n4            0  2020-04-27 09:02:07     False       False   \n..         ...                  ...       ...         ...   \n800          3  2020-07-21 13:33:02      True       False   \n801          0  2020-07-21 14:32:33     False       False   \n802          0  2020-07-21 15:42:08      True       False   \n803          0  2020-07-21 15:55:06     False       False   \n804          0  2020-07-21 16:25:48     False       False   \n\n                 user_id has_media                     medias  \n0     771966499598766080       NaN                        NaN  \n1              208056970       NaN                        NaN  \n2    1044207494199828480       NaN                        NaN  \n3    1044207494199828480       NaN                        NaN  \n4    1044207494199828480       NaN                        NaN  \n..                   ...       ...                        ...  \n800  1002887076579176449       NaN                        NaN  \n801   983731443502370816       NaN                        NaN  \n802            176721879       NaN                        NaN  \n803  1218944188143661057       NaN                        NaN  \n804   901403151214837761      True  [https://t.co/Mw8tCENrx4]  \n\n[805 rows x 13 columns]",
      "text/html": "<div>\n<style scoped>\n    .dataframe tbody tr th:only-of-type {\n        vertical-align: middle;\n    }\n\n    .dataframe tbody tr th {\n        vertical-align: top;\n    }\n\n    .dataframe thead th {\n        text-align: right;\n    }\n</style>\n<table border=\"1\" class=\"dataframe\">\n  <thead>\n    <tr style=\"text-align: right;\">\n      <th></th>\n      <th>usernameTweet</th>\n      <th>ID</th>\n      <th>text</th>\n      <th>url</th>\n      <th>nbr_retweet</th>\n      <th>nbr_favorite</th>\n      <th>nbr_reply</th>\n      <th>datetime</th>\n      <th>is_reply</th>\n      <th>is_retweet</th>\n      <th>user_id</th>\n      <th>has_media</th>\n      <th>medias</th>\n    </tr>\n  </thead>\n  <tbody>\n    <tr>\n      <td>0</td>\n      <td>Cricowlofficial</td>\n      <td>1254462580459896832</td>\n      <td>Check out Yuvi paji and Boom Boom Bumrah funny...</td>\n      <td>/Cricowlofficial/status/1254462580459896832</td>\n      <td>0</td>\n      <td>1</td>\n      <td>0</td>\n      <td>2020-04-26 22:59:20</td>\n      <td>False</td>\n      <td>False</td>\n      <td>771966499598766080</td>\n      <td>NaN</td>\n      <td>NaN</td>\n    </tr>\n    <tr>\n      <td>1</td>\n      <td>PairsonnalitesU</td>\n      <td>1254535104510091265</td>\n      <td>Fighting Stigma :  MP Happiness Dept to help  ...</td>\n      <td>/PairsonnalitesU/status/1254535104510091265</td>\n      <td>0</td>\n      <td>0</td>\n      <td>0</td>\n      <td>2020-04-27 03:47:31</td>\n      <td>False</td>\n      <td>False</td>\n      <td>208056970</td>\n      <td>NaN</td>\n      <td>NaN</td>\n    </tr>\n    <tr>\n      <td>2</td>\n      <td>hindikhabar99</td>\n      <td>1254614141161136129</td>\n      <td>अगर आप यह वीडियो देखना चाहते हैं तो youtube पर...</td>\n      <td>/hindikhabar99/status/1254614141161136129</td>\n      <td>0</td>\n      <td>0</td>\n      <td>0</td>\n      <td>2020-04-27 09:01:35</td>\n      <td>False</td>\n      <td>False</td>\n      <td>1044207494199828480</td>\n      <td>NaN</td>\n      <td>NaN</td>\n    </tr>\n    <tr>\n      <td>3</td>\n      <td>hindikhabar99</td>\n      <td>1254614212216786946</td>\n      <td>अगर आप यह वीडियो देखना चाहते हैं तो youtube पर...</td>\n      <td>/hindikhabar99/status/1254614212216786946</td>\n      <td>0</td>\n      <td>0</td>\n      <td>0</td>\n      <td>2020-04-27 09:01:52</td>\n      <td>False</td>\n      <td>False</td>\n      <td>1044207494199828480</td>\n      <td>NaN</td>\n      <td>NaN</td>\n    </tr>\n    <tr>\n      <td>4</td>\n      <td>hindikhabar99</td>\n      <td>1254614275466895361</td>\n      <td>अगर आप यह वीडियो देखना चाहते हैं तो youtube पर...</td>\n      <td>/hindikhabar99/status/1254614275466895361</td>\n      <td>0</td>\n      <td>0</td>\n      <td>0</td>\n      <td>2020-04-27 09:02:07</td>\n      <td>False</td>\n      <td>False</td>\n      <td>1044207494199828480</td>\n      <td>NaN</td>\n      <td>NaN</td>\n    </tr>\n    <tr>\n      <td>...</td>\n      <td>...</td>\n      <td>...</td>\n      <td>...</td>\n      <td>...</td>\n      <td>...</td>\n      <td>...</td>\n      <td>...</td>\n      <td>...</td>\n      <td>...</td>\n      <td>...</td>\n      <td>...</td>\n      <td>...</td>\n      <td>...</td>\n    </tr>\n    <tr>\n      <td>800</td>\n      <td>SyedRehanAzhar</td>\n      <td>1285485422684954624</td>\n      <td>No, they are the biggest destroyers of  cricke...</td>\n      <td>/SyedRehanAzhar/status/1285485422684954624</td>\n      <td>0</td>\n      <td>1</td>\n      <td>3</td>\n      <td>2020-07-21 13:33:02</td>\n      <td>True</td>\n      <td>False</td>\n      <td>1002887076579176449</td>\n      <td>NaN</td>\n      <td>NaN</td>\n    </tr>\n    <tr>\n      <td>801</td>\n      <td>pavan__hosalli</td>\n      <td>1285500400225980418</td>\n      <td>India  pull out of women's  cricket  team prop...</td>\n      <td>/pavan__hosalli/status/1285500400225980418</td>\n      <td>0</td>\n      <td>0</td>\n      <td>0</td>\n      <td>2020-07-21 14:32:33</td>\n      <td>False</td>\n      <td>False</td>\n      <td>983731443502370816</td>\n      <td>NaN</td>\n      <td>NaN</td>\n    </tr>\n    <tr>\n      <td>802</td>\n      <td>pradiptomba</td>\n      <td>1285517912720044032</td>\n      <td>This is what money power of  India  in  cricke...</td>\n      <td>/pradiptomba/status/1285517912720044032</td>\n      <td>0</td>\n      <td>0</td>\n      <td>0</td>\n      <td>2020-07-21 15:42:08</td>\n      <td>True</td>\n      <td>False</td>\n      <td>176721879</td>\n      <td>NaN</td>\n      <td>NaN</td>\n    </tr>\n    <tr>\n      <td>803</td>\n      <td>walaa_news</td>\n      <td>1285521174152253440</td>\n      <td>India  pull out of women’s  cricket  team prop...</td>\n      <td>/walaa_news/status/1285521174152253440</td>\n      <td>0</td>\n      <td>0</td>\n      <td>0</td>\n      <td>2020-07-21 15:55:06</td>\n      <td>False</td>\n      <td>False</td>\n      <td>1218944188143661057</td>\n      <td>NaN</td>\n      <td>NaN</td>\n    </tr>\n    <tr>\n      <td>804</td>\n      <td>guestplant</td>\n      <td>1285528900664274944</td>\n      <td>ICC Postpones Men's T20 World Cup due to  Covi...</td>\n      <td>/guestplant/status/1285528900664274944</td>\n      <td>0</td>\n      <td>1</td>\n      <td>0</td>\n      <td>2020-07-21 16:25:48</td>\n      <td>False</td>\n      <td>False</td>\n      <td>901403151214837761</td>\n      <td>True</td>\n      <td>[https://t.co/Mw8tCENrx4]</td>\n    </tr>\n  </tbody>\n</table>\n<p>805 rows × 13 columns</p>\n</div>"
     },
     "metadata": {},
     "execution_count": 6
    }
   ],
   "source": [
    "df"
   ]
  },
  {
   "cell_type": "code",
   "execution_count": 7,
   "metadata": {},
   "outputs": [],
   "source": [
    "df.to_csv(\"test.csv\")"
   ]
  },
  {
   "cell_type": "code",
   "execution_count": 8,
   "metadata": {},
   "outputs": [
    {
     "output_type": "execute_result",
     "data": {
      "text/plain": "Index(['usernameTweet', 'ID', 'text', 'url', 'nbr_retweet', 'nbr_favorite',\n       'nbr_reply', 'datetime', 'is_reply', 'is_retweet', 'user_id',\n       'has_media', 'medias'],\n      dtype='object')"
     },
     "metadata": {},
     "execution_count": 8
    }
   ],
   "source": [
    "df.columns"
   ]
  },
  {
   "cell_type": "code",
   "execution_count": null,
   "metadata": {},
   "outputs": [],
   "source": []
  }
 ],
 "metadata": {
  "language_info": {
   "codemirror_mode": {
    "name": "ipython",
    "version": 3
   },
   "file_extension": ".py",
   "mimetype": "text/x-python",
   "name": "python",
   "nbconvert_exporter": "python",
   "pygments_lexer": "ipython3",
   "version": "3.8.1-final"
  },
  "orig_nbformat": 2,
  "kernelspec": {
   "name": "python3",
   "display_name": "Python 3"
  }
 },
 "nbformat": 4,
 "nbformat_minor": 2
}