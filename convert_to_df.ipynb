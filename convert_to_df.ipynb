{
 "cells": [
  {
   "cell_type": "code",
   "execution_count": 15,
   "metadata": {},
   "outputs": [],
   "source": [
    "#scrapy crawl TweetScraper -a query=\"foo,#bar\"\n",
    "import pandas as pd\n",
    "import glob\n",
    "import json"
   ]
  },
  {
   "cell_type": "code",
   "execution_count": 16,
   "metadata": {},
   "outputs": [
    {
     "output_type": "execute_result",
     "data": {
      "text/plain": "4501"
     },
     "metadata": {},
     "execution_count": 16
    }
   ],
   "source": [
    "files = glob.glob(\"tweet/*\")\n",
    "len(files)"
   ]
  },
  {
   "cell_type": "code",
   "execution_count": 17,
   "metadata": {},
   "outputs": [
    {
     "output_type": "execute_result",
     "data": {
      "text/plain": "'c:\\\\Users\\\\2017j\\\\Desktop\\\\Jay-Projects\\\\2020\\\\BE-Project\\\\Twitter data using Scrapy\\\\TweetScraper\\\\Data'"
     },
     "metadata": {},
     "execution_count": 17
    }
   ],
   "source": [
    "pwd"
   ]
  },
  {
   "cell_type": "code",
   "execution_count": 18,
   "metadata": {},
   "outputs": [],
   "source": [
    "dictlist = []\n",
    "for file in files:\n",
    "    json_string = open(file,'r',encoding=\"utf8\").read()\n",
    "    json_dict = json.loads(json_string)\n",
    "    dictlist.append(json_dict)"
   ]
  },
  {
   "cell_type": "code",
   "execution_count": 19,
   "metadata": {},
   "outputs": [],
   "source": [
    "df = pd.DataFrame(dictlist)\n",
    "df = df.replace({'\\n': ' '}, regex=True) # remove linebreaks in the dataframe\n",
    "df = df.replace({'\\t': ' '}, regex=True) # remove tabs in the dataframe\n",
    "df = df.replace({'\\r': ' '}, regex=True) # remove carriage return in the dataframe"
   ]
  },
  {
   "cell_type": "code",
   "execution_count": 20,
   "metadata": {},
   "outputs": [
    {
     "output_type": "execute_result",
     "data": {
      "text/plain": "      usernameTweet                   ID  \\\n0     zenwitchcraft  1269641016149266433   \n1       SplitLip816  1269641018242142211   \n2         jwicker21  1269641021056405504   \n3        oldmandyer  1269641021299851267   \n4     Emori25302575  1269641036390969344   \n...             ...                  ...   \n4496    JonDeTrinis  1269656055082110977   \n4497   _warrenplays  1269656068407222272   \n4498  69WithTheAfro  1269656069225066498   \n4499      YtReflect  1269656069510508548   \n4500  PurpleJasMin_  1269656078800879616   \n\n                                                   text  \\\n0     Still looking for the owner of this White Bian...   \n1     Holy shit y’all, #blm  made it to Macon! We ar...   \n2     \"two months ago our doctors were waddling arou...   \n3     so I’m apparently gonna tweet some things. y’a...   \n4     Check out Marina Aria's video! #TikTok  #blm  ...   \n...                                                 ...   \n4496  When my son asks me about what happened in NOL...   \n4497  They haven’t though , they’ve been vandalising...   \n4498  I’d you were going to a house party and you br...   \n4499  Y’all know white peoples fought to end slavery...   \n4500  The donation does not have to be the set amoun...   \n\n                                            url  nbr_retweet  nbr_favorite  \\\n0     /zenwitchcraft/status/1269641016149266433            1             0   \n1       /SplitLip816/status/1269641018242142211            0             1   \n2         /jwicker21/status/1269641021056405504            0             0   \n3        /oldmandyer/status/1269641021299851267            0             0   \n4     /Emori25302575/status/1269641036390969344            0             0   \n...                                         ...          ...           ...   \n4496    /JonDeTrinis/status/1269656055082110977            0             0   \n4497   /_warrenplays/status/1269656068407222272            0             0   \n4498  /69WithTheAfro/status/1269656069225066498            0             0   \n4499      /YtReflect/status/1269656069510508548            0             0   \n4500  /PurpleJasMin_/status/1269656078800879616            0             0   \n\n      nbr_reply             datetime  is_reply  is_retweet  \\\n0             0  2020-06-07 20:13:01     False       False   \n1             0  2020-06-07 20:13:02     False       False   \n2             0  2020-06-07 20:13:02     False       False   \n3             4  2020-06-07 20:13:02     False       False   \n4             0  2020-06-07 20:13:06     False       False   \n...         ...                  ...       ...         ...   \n4496          0  2020-06-07 21:12:47     False       False   \n4497          0  2020-06-07 21:12:50      True       False   \n4498          0  2020-06-07 21:12:50      True       False   \n4499          0  2020-06-07 21:12:50     False       False   \n4500          0  2020-06-07 21:12:52     False       False   \n\n                  user_id has_media                     medias  \n0     1266576566802407424       NaN                        NaN  \n1               114909783       NaN                        NaN  \n2               715207333      True  [https://t.co/1D1TaESxud]  \n3              3082042838       NaN                        NaN  \n4     1266459139636711424      True  [https://t.co/jYsyL1DBxe]  \n...                   ...       ...                        ...  \n4496            214583408       NaN                        NaN  \n4497  1075715845815496704       NaN                        NaN  \n4498           2291893100       NaN                        NaN  \n4499  1068889095479468032       NaN                        NaN  \n4500   832941678575120384      True  [https://t.co/BxP6BnrXEB]  \n\n[4501 rows x 13 columns]",
      "text/html": "<div>\n<style scoped>\n    .dataframe tbody tr th:only-of-type {\n        vertical-align: middle;\n    }\n\n    .dataframe tbody tr th {\n        vertical-align: top;\n    }\n\n    .dataframe thead th {\n        text-align: right;\n    }\n</style>\n<table border=\"1\" class=\"dataframe\">\n  <thead>\n    <tr style=\"text-align: right;\">\n      <th></th>\n      <th>usernameTweet</th>\n      <th>ID</th>\n      <th>text</th>\n      <th>url</th>\n      <th>nbr_retweet</th>\n      <th>nbr_favorite</th>\n      <th>nbr_reply</th>\n      <th>datetime</th>\n      <th>is_reply</th>\n      <th>is_retweet</th>\n      <th>user_id</th>\n      <th>has_media</th>\n      <th>medias</th>\n    </tr>\n  </thead>\n  <tbody>\n    <tr>\n      <td>0</td>\n      <td>zenwitchcraft</td>\n      <td>1269641016149266433</td>\n      <td>Still looking for the owner of this White Bian...</td>\n      <td>/zenwitchcraft/status/1269641016149266433</td>\n      <td>1</td>\n      <td>0</td>\n      <td>0</td>\n      <td>2020-06-07 20:13:01</td>\n      <td>False</td>\n      <td>False</td>\n      <td>1266576566802407424</td>\n      <td>NaN</td>\n      <td>NaN</td>\n    </tr>\n    <tr>\n      <td>1</td>\n      <td>SplitLip816</td>\n      <td>1269641018242142211</td>\n      <td>Holy shit y’all, #blm  made it to Macon! We ar...</td>\n      <td>/SplitLip816/status/1269641018242142211</td>\n      <td>0</td>\n      <td>1</td>\n      <td>0</td>\n      <td>2020-06-07 20:13:02</td>\n      <td>False</td>\n      <td>False</td>\n      <td>114909783</td>\n      <td>NaN</td>\n      <td>NaN</td>\n    </tr>\n    <tr>\n      <td>2</td>\n      <td>jwicker21</td>\n      <td>1269641021056405504</td>\n      <td>\"two months ago our doctors were waddling arou...</td>\n      <td>/jwicker21/status/1269641021056405504</td>\n      <td>0</td>\n      <td>0</td>\n      <td>0</td>\n      <td>2020-06-07 20:13:02</td>\n      <td>False</td>\n      <td>False</td>\n      <td>715207333</td>\n      <td>True</td>\n      <td>[https://t.co/1D1TaESxud]</td>\n    </tr>\n    <tr>\n      <td>3</td>\n      <td>oldmandyer</td>\n      <td>1269641021299851267</td>\n      <td>so I’m apparently gonna tweet some things. y’a...</td>\n      <td>/oldmandyer/status/1269641021299851267</td>\n      <td>0</td>\n      <td>0</td>\n      <td>4</td>\n      <td>2020-06-07 20:13:02</td>\n      <td>False</td>\n      <td>False</td>\n      <td>3082042838</td>\n      <td>NaN</td>\n      <td>NaN</td>\n    </tr>\n    <tr>\n      <td>4</td>\n      <td>Emori25302575</td>\n      <td>1269641036390969344</td>\n      <td>Check out Marina Aria's video! #TikTok  #blm  ...</td>\n      <td>/Emori25302575/status/1269641036390969344</td>\n      <td>0</td>\n      <td>0</td>\n      <td>0</td>\n      <td>2020-06-07 20:13:06</td>\n      <td>False</td>\n      <td>False</td>\n      <td>1266459139636711424</td>\n      <td>True</td>\n      <td>[https://t.co/jYsyL1DBxe]</td>\n    </tr>\n    <tr>\n      <td>...</td>\n      <td>...</td>\n      <td>...</td>\n      <td>...</td>\n      <td>...</td>\n      <td>...</td>\n      <td>...</td>\n      <td>...</td>\n      <td>...</td>\n      <td>...</td>\n      <td>...</td>\n      <td>...</td>\n      <td>...</td>\n      <td>...</td>\n    </tr>\n    <tr>\n      <td>4496</td>\n      <td>JonDeTrinis</td>\n      <td>1269656055082110977</td>\n      <td>When my son asks me about what happened in NOL...</td>\n      <td>/JonDeTrinis/status/1269656055082110977</td>\n      <td>0</td>\n      <td>0</td>\n      <td>0</td>\n      <td>2020-06-07 21:12:47</td>\n      <td>False</td>\n      <td>False</td>\n      <td>214583408</td>\n      <td>NaN</td>\n      <td>NaN</td>\n    </tr>\n    <tr>\n      <td>4497</td>\n      <td>_warrenplays</td>\n      <td>1269656068407222272</td>\n      <td>They haven’t though , they’ve been vandalising...</td>\n      <td>/_warrenplays/status/1269656068407222272</td>\n      <td>0</td>\n      <td>0</td>\n      <td>0</td>\n      <td>2020-06-07 21:12:50</td>\n      <td>True</td>\n      <td>False</td>\n      <td>1075715845815496704</td>\n      <td>NaN</td>\n      <td>NaN</td>\n    </tr>\n    <tr>\n      <td>4498</td>\n      <td>69WithTheAfro</td>\n      <td>1269656069225066498</td>\n      <td>I’d you were going to a house party and you br...</td>\n      <td>/69WithTheAfro/status/1269656069225066498</td>\n      <td>0</td>\n      <td>0</td>\n      <td>0</td>\n      <td>2020-06-07 21:12:50</td>\n      <td>True</td>\n      <td>False</td>\n      <td>2291893100</td>\n      <td>NaN</td>\n      <td>NaN</td>\n    </tr>\n    <tr>\n      <td>4499</td>\n      <td>YtReflect</td>\n      <td>1269656069510508548</td>\n      <td>Y’all know white peoples fought to end slavery...</td>\n      <td>/YtReflect/status/1269656069510508548</td>\n      <td>0</td>\n      <td>0</td>\n      <td>0</td>\n      <td>2020-06-07 21:12:50</td>\n      <td>False</td>\n      <td>False</td>\n      <td>1068889095479468032</td>\n      <td>NaN</td>\n      <td>NaN</td>\n    </tr>\n    <tr>\n      <td>4500</td>\n      <td>PurpleJasMin_</td>\n      <td>1269656078800879616</td>\n      <td>The donation does not have to be the set amoun...</td>\n      <td>/PurpleJasMin_/status/1269656078800879616</td>\n      <td>0</td>\n      <td>0</td>\n      <td>0</td>\n      <td>2020-06-07 21:12:52</td>\n      <td>False</td>\n      <td>False</td>\n      <td>832941678575120384</td>\n      <td>True</td>\n      <td>[https://t.co/BxP6BnrXEB]</td>\n    </tr>\n  </tbody>\n</table>\n<p>4501 rows × 13 columns</p>\n</div>"
     },
     "metadata": {},
     "execution_count": 20
    }
   ],
   "source": [
    "df"
   ]
  },
  {
   "cell_type": "code",
   "execution_count": 21,
   "metadata": {},
   "outputs": [],
   "source": [
    "df.to_csv(\"test.csv\")"
   ]
  },
  {
   "cell_type": "code",
   "execution_count": null,
   "metadata": {},
   "outputs": [],
   "source": []
  }
 ],
 "metadata": {
  "language_info": {
   "codemirror_mode": {
    "name": "ipython",
    "version": 3
   },
   "file_extension": ".py",
   "mimetype": "text/x-python",
   "name": "python",
   "nbconvert_exporter": "python",
   "pygments_lexer": "ipython3",
   "version": "3.7.4-final"
  },
  "orig_nbformat": 2,
  "kernelspec": {
   "name": "python3",
   "display_name": "Python 3"
  }
 },
 "nbformat": 4,
 "nbformat_minor": 2
}